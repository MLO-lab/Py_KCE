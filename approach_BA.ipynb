{
 "cells": [
  {
   "cell_type": "code",
   "execution_count": 1,
   "outputs": [],
   "source": [
    "import pycalibration\n",
    "pycalibration.install()"
   ],
   "metadata": {
    "collapsed": false,
    "ExecuteTime": {
     "end_time": "2023-07-20T13:24:34.930272100Z",
     "start_time": "2023-07-20T13:23:20.523511500Z"
    }
   }
  },
  {
   "cell_type": "code",
   "execution_count": 2,
   "outputs": [],
   "source": [
    "import numpy as np\n",
    "from pycalibration import ca\n",
    "import time"
   ],
   "metadata": {
    "collapsed": false,
    "ExecuteTime": {
     "end_time": "2023-07-20T13:24:47.176900300Z",
     "start_time": "2023-07-20T13:24:34.896544300Z"
    }
   }
  },
  {
   "cell_type": "code",
   "execution_count": 3,
   "metadata": {
    "id": "DhSbZL5eoQUQ",
    "ExecuteTime": {
     "end_time": "2023-07-20T13:24:47.245347900Z",
     "start_time": "2023-07-20T13:24:47.190291Z"
    }
   },
   "outputs": [],
   "source": [
    "def SKCE(kernel, predictions, outcomes):\n",
    "\n",
    "    predictions = np.array(predictions)\n",
    "    outcomes = np.array(outcomes)\n",
    "    n = len(outcomes)\n",
    "\n",
    "    # Initialize SKCE\n",
    "    skce_matrix = np.zeros((n,n))\n",
    "\n",
    "    # For each pair of data points\n",
    "    for i in range(n):\n",
    "        for j in range(i+1,n):\n",
    "            # Compute the difference between unit vectors outcomes and predictions\n",
    "            diff_Yi_g_Xi = np.array([outcomes[i] - predictions[i]])\n",
    "            diff_Yj_g_Xj = np.array([outcomes[j] - predictions[j]])\n",
    "\n",
    "            # Compute the kernel matrix for the pair\n",
    "            k_g_Xi_g_Xj = kernel(predictions, predictions)\n",
    "\n",
    "            matrix_kernel = k_g_Xi_g_Xj[i,j] * np.eye(len(predictions[i]))\n",
    "\n",
    "            skce_matrix[i,j] = ((diff_Yi_g_Xi @ matrix_kernel) @ diff_Yj_g_Xj.T)[0,0]\n",
    "\n",
    "    skce = np.sum(skce_matrix)\n",
    "\n",
    "    \n",
    "    # Divide the SKCE by n over 2\n",
    "    prefactor = (n* (n-1)) // 2\n",
    "    skce /= prefactor\n",
    "\n",
    "    return skce\n",
    "\n",
    "\n",
    "def transform_outcomes(predictions, outcomes):\n",
    "    #creates vector for outcomes to match predictions shape\n",
    "    outcomes_minus_one = [x - 1 for x in outcomes]\n",
    "    transformed_outcomes = np.zeros_like(predictions)\n",
    "    transformed_outcomes[np.arange(len(predictions)), outcomes_minus_one] = 1\n",
    "    return transformed_outcomes\n",
    "\n",
    "# Use the rbf_kernel function from sklearn.metrics.pairwise\n",
    "def rbf_pw(X, Y=None, length_scale=1.0):\n",
    "    gamma = 1.0 / (2 * length_scale ** 2)\n",
    "    return RBF_PW(X, Y, gamma=gamma)"
   ]
  },
  {
   "cell_type": "code",
   "execution_count": 4,
   "outputs": [],
   "source": [
    "from sklearn.gaussian_process.kernels import RBF as RBF_GP\n",
    "from sklearn.metrics.pairwise import rbf_kernel as RBF_PW\n",
    "\n",
    "# Instantiate the RBF kernel from sklearn.gaussian_process.kernels\n",
    "rbf_gp = RBF_GP(length_scale=1)\n",
    "\n",
    "# Use the rbf_kernel function from sklearn.metrics.pairwise\n",
    "def rbf_pw(X, Y=None, length_scale=1.0):\n",
    "    gamma = 1.0 / (2 * length_scale ** 2)\n",
    "    return RBF_PW(X, Y, gamma=gamma)"
   ],
   "metadata": {
    "collapsed": false,
    "ExecuteTime": {
     "end_time": "2023-07-20T13:24:47.265684200Z",
     "start_time": "2023-07-20T13:24:47.247826900Z"
    }
   }
  },
  {
   "cell_type": "code",
   "execution_count": 20,
   "metadata": {
    "colab": {
     "base_uri": "https://localhost:8080/"
    },
    "id": "vYPFfze2mMkW",
    "outputId": "f9b22c07-5700-48a0-d528-08f1b67f9124",
    "ExecuteTime": {
     "end_time": "2023-07-20T13:25:30.532495800Z",
     "start_time": "2023-07-20T13:25:30.450654800Z"
    }
   },
   "outputs": [
    {
     "name": "stdout",
     "output_type": "stream",
     "text": [
      "[[-0.25  0.25]] [[-0.5  0.5]]\n",
      "[[0.23485327]]\n",
      "[[-0.25  0.25]] [[ 0.25 -0.25]]\n",
      "[[-0.0973501]]\n",
      "[[-0.5  0.5]] [[ 0.25 -0.25]]\n",
      "[[-0.23485327]]\n",
      "[[ 0.          0.23485327 -0.0973501 ]\n",
      " [ 0.          0.         -0.23485327]\n",
      " [ 0.          0.          0.        ]]\n"
     ]
    },
    {
     "data": {
      "text/plain": "-0.03245003262797521"
     },
     "execution_count": 20,
     "metadata": {},
     "output_type": "execute_result"
    }
   ],
   "source": [
    "rng = np.random.default_rng(1234)\n",
    "import random\n",
    "rng = np.random.default_rng(1234)\n",
    "predictions = [rng.dirichlet((3, 2, 5)) for _ in range(40)]\n",
    "outcomes = rng.integers(low=1, high=4, size=40)\n",
    "predictions = np.array([[0.1,0.9],[0.9,0.1]])\n",
    "outcomes = np.array([2,1])\n",
    "predictions = np.array([[0.5,0.5],[0.5,0.5]])\n",
    "outcomes = np.array([2,2])\n",
    "\n",
    "\n",
    "\n",
    "#2 Datenpukte 3 Klassen\n",
    "predictions = np.array([[1/3,1/3,1/3],[1/3,1/3,1/3]])\n",
    "outcomes = np.array([3,1])\n",
    "\n",
    "predictions = np.array([[0.5,0.5],[0.5,0.5],[0.5,0.5]])\n",
    "outcomes = np.array([2,1,1])\n",
    "#outcomes = predictions.copy()\n",
    "predictions = np.array([[0.25,0.75],[0.5,0.5],[0.75,0.25]])\n",
    "outcomes = np.array([2,2,1])\n",
    "\n",
    "\n",
    "#print(transform_outcomes(predictions, outcomes))\n",
    "\n",
    "# Now you can use these in your calculate_SKCE function\n",
    "SKCE(rbf_pw, predictions, transform_outcomes(predictions, outcomes))\n",
    "#print(SKCE(rbf_pw, predictions, outcomes))\n",
    "\n",
    "#todo:\n",
    "#2 Datenpunkte 3 Klassen\n",
    "#3 Datenpunkte 2 Klassen\n",
    "#Ewartungswert One Hot Encoded Vector = Wahrscheinlichkeiten\n"
   ]
  },
  {
   "cell_type": "code",
   "execution_count": 21,
   "outputs": [
    {
     "data": {
      "text/plain": "array([[1.        , 0.93941306, 0.77880078],\n       [0.93941306, 1.        , 0.93941306],\n       [0.77880078, 0.93941306, 1.        ]])"
     },
     "execution_count": 21,
     "metadata": {},
     "output_type": "execute_result"
    }
   ],
   "source": [
    "rbf_pw(predictions, predictions)"
   ],
   "metadata": {
    "collapsed": false,
    "ExecuteTime": {
     "end_time": "2023-07-20T13:25:31.071646Z",
     "start_time": "2023-07-20T13:25:31.003198400Z"
    }
   }
  },
  {
   "cell_type": "code",
   "execution_count": 22,
   "metadata": {
    "id": "iUIjnGPqo8bA",
    "ExecuteTime": {
     "end_time": "2023-07-20T13:25:32.206496Z",
     "start_time": "2023-07-20T13:25:32.141520100Z"
    }
   },
   "outputs": [
    {
     "data": {
      "text/plain": "-0.03245003262797522"
     },
     "execution_count": 22,
     "metadata": {},
     "output_type": "execute_result"
    }
   ],
   "source": [
    "#skce_julia = ca.SKCE(ca.RBFKernel(), unbiased=True)\n",
    "skce_julia = ca.SKCE(ca.tensor(ca.RBFKernel(), ca.WhiteKernel()), unbiased = True)\n",
    "skce_julia(ca.RowVecs(predictions), outcomes)"
   ]
  },
  {
   "cell_type": "code",
   "execution_count": 8,
   "outputs": [],
   "source": [
    "#skce_julia = ca.SKCE(ca.RBFKernel(), unbiased=True)\n",
    "#skce_julia(predictions, outcomes)"
   ],
   "metadata": {
    "collapsed": false,
    "ExecuteTime": {
     "end_time": "2023-07-20T13:24:49.658388800Z",
     "start_time": "2023-07-20T13:24:49.583990Z"
    }
   }
  },
  {
   "cell_type": "code",
   "execution_count": 9,
   "outputs": [
    {
     "name": "stdout",
     "output_type": "stream",
     "text": [
      "[[1.75 1.25]] [[1.5 1.5]]\n",
      "[[4.22735878]]\n",
      "[[1.75 1.25]] [[0.25 0.75]]\n",
      "[[1.07085108]]\n",
      "[[1.5 1.5]] [[0.25 0.75]]\n",
      "[[1.40911959]]\n",
      "[[0.         4.22735878 1.07085108]\n",
      " [0.         0.         1.40911959]\n",
      " [0.         0.         0.        ]]\n",
      "SKCE Python took 0.008432388305664062 seconds to execute.\n",
      "SKCE Julia took 0.003968238830566406 seconds to execute.\n"
     ]
    }
   ],
   "source": [
    "# Measure the time taken by function1\n",
    "start_time = time.time()\n",
    "SKCE(rbf_gp, predictions, outcomes)\n",
    "end_time = time.time()\n",
    "print(f\"SKCE Python took {end_time - start_time} seconds to execute.\")\n",
    "\n",
    "# Measure the time taken by function2\n",
    "start_time = time.time()\n",
    "skce_julia(ca.RowVecs(predictions), outcomes)\n",
    "end_time = time.time()\n",
    "print(f\"SKCE Julia took {end_time - start_time} seconds to execute.\")"
   ],
   "metadata": {
    "collapsed": false,
    "ExecuteTime": {
     "end_time": "2023-07-20T13:24:49.696581700Z",
     "start_time": "2023-07-20T13:24:49.613253600Z"
    }
   }
  },
  {
   "cell_type": "code",
   "execution_count": 10,
   "outputs": [
    {
     "name": "stdout",
     "output_type": "stream",
     "text": [
      "Row array:\n",
      "[[ 0.05272924 -0.05272924]]\n",
      "Column array:\n",
      "[[ 0.05272924]\n",
      " [-0.05272924]]\n"
     ]
    }
   ],
   "source": [
    "import numpy as np\n",
    "\n",
    "# Original 1D array\n",
    "arr = np.array([0.05272924, -0.05272924])\n",
    "\n",
    "# Reshape to a 2D array with a single row\n",
    "arr_row = arr.reshape(1, -1)\n",
    "print(\"Row array:\")\n",
    "print(arr_row)\n",
    "\n",
    "# Reshape to a 2D array with a single column\n",
    "arr_col = arr.reshape(-1, 1)\n",
    "print(\"Column array:\")\n",
    "print(arr_col)\n"
   ],
   "metadata": {
    "collapsed": false,
    "ExecuteTime": {
     "end_time": "2023-07-20T13:24:49.858774500Z",
     "start_time": "2023-07-20T13:24:49.675750200Z"
    }
   }
  },
  {
   "cell_type": "code",
   "execution_count": 11,
   "outputs": [
    {
     "name": "stdout",
     "output_type": "stream",
     "text": [
      "[[0.         0.93941306 0.77880078]\n",
      " [0.         0.         0.93941306]\n",
      " [0.         0.         0.        ]]\n"
     ]
    }
   ],
   "source": [
    "from julia import Main\n",
    "import numpy as np\n",
    "\n",
    "def test_rbf_kernel(predictions):\n",
    "    Main.eval(\"\"\"\n",
    "    using KernelFunctions\n",
    "    rbf = SqExponentialKernel()\n",
    "    \"\"\")\n",
    "\n",
    "    kernel_matrix = np.zeros((len(predictions), len(predictions)))\n",
    "\n",
    "    for i in range(len(predictions)):\n",
    "        for j in range(i+1,len(predictions)):\n",
    "            kernel_matrix[i][j] = Main.eval(f\"rbf({list(predictions[i])}, {list(predictions[j])})\")\n",
    "\n",
    "    return kernel_matrix\n",
    "\n",
    "# Test the function with two predictions\n",
    "#predictions = np.array([[0.1,0.9],[0.9,0.1],[0.5,0.5]])\n",
    "print(test_rbf_kernel(predictions))\n"
   ],
   "metadata": {
    "collapsed": false,
    "ExecuteTime": {
     "end_time": "2023-07-20T13:24:49.966407200Z",
     "start_time": "2023-07-20T13:24:49.701047400Z"
    }
   }
  },
  {
   "cell_type": "code",
   "execution_count": 12,
   "outputs": [
    {
     "data": {
      "text/plain": "array([[1.        , 0.93941306, 0.77880078],\n       [0.93941306, 1.        , 0.93941306],\n       [0.77880078, 0.93941306, 1.        ]])"
     },
     "execution_count": 12,
     "metadata": {},
     "output_type": "execute_result"
    }
   ],
   "source": [
    "rbf_pw(predictions, predictions)"
   ],
   "metadata": {
    "collapsed": false,
    "ExecuteTime": {
     "end_time": "2023-07-20T13:24:50.002117500Z",
     "start_time": "2023-07-20T13:24:49.928213800Z"
    }
   }
  },
  {
   "cell_type": "code",
   "execution_count": 13,
   "outputs": [
    {
     "data": {
      "text/plain": "0.9394130628134758"
     },
     "execution_count": 13,
     "metadata": {},
     "output_type": "execute_result"
    }
   ],
   "source": [
    "Main.eval(f\"rbf({list(predictions[0])}, {list(predictions[1])})\")"
   ],
   "metadata": {
    "collapsed": false,
    "ExecuteTime": {
     "end_time": "2023-07-20T13:24:50.151910500Z",
     "start_time": "2023-07-20T13:24:49.986245900Z"
    }
   }
  },
  {
   "cell_type": "code",
   "execution_count": 14,
   "outputs": [],
   "source": [
    "diff_Xi = np.array(np.array([0,1]) - np.array([0.1,0.9])).reshape(1,-1)"
   ],
   "metadata": {
    "collapsed": false,
    "ExecuteTime": {
     "end_time": "2023-07-20T13:24:50.187127700Z",
     "start_time": "2023-07-20T13:24:50.047255700Z"
    }
   }
  },
  {
   "cell_type": "code",
   "execution_count": 15,
   "outputs": [
    {
     "data": {
      "text/plain": "array([[0.93941306, 0.        ],\n       [0.        , 0.93941306]])"
     },
     "execution_count": 15,
     "metadata": {},
     "output_type": "execute_result"
    }
   ],
   "source": [
    "rbf_pw(predictions[0].reshape(1,-1), predictions[1].reshape(1,-1)) * np.eye(2)"
   ],
   "metadata": {
    "collapsed": false,
    "ExecuteTime": {
     "end_time": "2023-07-20T13:24:50.320056400Z",
     "start_time": "2023-07-20T13:24:50.078502900Z"
    }
   }
  },
  {
   "cell_type": "code",
   "execution_count": 16,
   "outputs": [
    {
     "data": {
      "text/plain": "array([[1., 0.],\n       [0., 1.]])"
     },
     "execution_count": 16,
     "metadata": {},
     "output_type": "execute_result"
    }
   ],
   "source": [
    "np.eye(len(predictions[0]))"
   ],
   "metadata": {
    "collapsed": false,
    "ExecuteTime": {
     "end_time": "2023-07-20T13:24:50.336919500Z",
     "start_time": "2023-07-20T13:24:50.133558700Z"
    }
   }
  },
  {
   "cell_type": "code",
   "execution_count": 16,
   "outputs": [],
   "source": [],
   "metadata": {
    "collapsed": false,
    "ExecuteTime": {
     "end_time": "2023-07-20T13:24:50.338902800Z",
     "start_time": "2023-07-20T13:24:50.180678400Z"
    }
   }
  }
 ],
 "metadata": {
  "colab": {
   "provenance": []
  },
  "kernelspec": {
   "name": "python3",
   "language": "python",
   "display_name": "Python 3 (ipykernel)"
  },
  "language_info": {
   "name": "python"
  }
 },
 "nbformat": 4,
 "nbformat_minor": 0
}
