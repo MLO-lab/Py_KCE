{
 "cells": [
  {
   "cell_type": "code",
   "execution_count": 293,
   "metadata": {
    "id": "2sJN4JN-mU6z",
    "ExecuteTime": {
     "end_time": "2023-07-03T00:06:50.868262200Z",
     "start_time": "2023-07-03T00:06:50.853378600Z"
    }
   },
   "outputs": [],
   "source": [
    "import numpy as np\n",
    "import random\n",
    "from sklearn.metrics.pairwise import pairwise_kernels, linear_kernel, polynomial_kernel,rbf_kernel,sigmoid_kernel,laplacian_kernel\n",
    "from sklearn.gaussian_process.kernels import Matern, WhiteKernel\n",
    "from pycalibration import ca\n",
    "import time"
   ]
  },
  {
   "cell_type": "code",
   "execution_count": 277,
   "metadata": {
    "id": "DhSbZL5eoQUQ",
    "ExecuteTime": {
     "end_time": "2023-07-03T00:03:17.159466300Z",
     "start_time": "2023-07-03T00:03:17.144585300Z"
    }
   },
   "outputs": [],
   "source": [
    "import numpy as np\n",
    "\n",
    "def SKCE(kernel, predictions, outcomes):\n",
    "    # Reshape predictions and outcomes into 2D arrays\n",
    "    predictions = np.array(predictions).reshape(-1, 1)\n",
    "    outcomes = np.array(outcomes).reshape(-1, 1)\n",
    "\n",
    "    n = len(outcomes)\n",
    "\n",
    "    # Initialize SKCE\n",
    "    skce_matrix = np.zeros((n,n))\n",
    "\n",
    "    # For each pair of data points\n",
    "    for i in range(n):\n",
    "        for j in range(i+1,n):\n",
    "            # Compute the difference between unit vectors outcomes and predictions\n",
    "            diff_Yi_g_Xi = outcomes[i] - predictions[i]\n",
    "            diff_Yj_g_Xj = outcomes[j] - predictions[j]\n",
    "\n",
    "            # Reshape the differences to be 2D arrays\n",
    "            diff_Yi_g_Xi = diff_Yi_g_Xi.reshape(1, -1)\n",
    "            diff_Yj_g_Xj = diff_Yj_g_Xj.reshape(1, -1)\n",
    "\n",
    "            # Compute the kernel matrix for the pair\n",
    "            k_g_Xi_g_Xj = kernel(predictions[i].reshape(1, -1), predictions[j].reshape(1, -1))\n",
    "\n",
    "            # Compute the hi,j term\n",
    "            skce_matrix[i,j] = diff_Yi_g_Xi.T * k_g_Xi_g_Xj * diff_Yj_g_Xj\n",
    "\n",
    "    skce = np.sum(skce_matrix)\n",
    "\n",
    "    \n",
    "    # Divide the SKCE by n over 2\n",
    "    prefactor = (n* (n-1)) // 2\n",
    "    skce /= prefactor\n",
    "\n",
    "    return skce\n",
    "\n",
    "\n",
    "def transform_outcomes(predictions, outcomes):\n",
    "    #creates vector for outcomes to match predictions shape\n",
    "    transformed_outcomes = np.zeros_like(predictions)\n",
    "    transformed_outcomes[np.arange(len(predictions)), outcomes] = 1\n",
    "    return transformed_outcomes"
   ]
  },
  {
   "cell_type": "code",
   "execution_count": 278,
   "outputs": [],
   "source": [
    "from sklearn.gaussian_process.kernels import RBF as RBF_GP\n",
    "from sklearn.metrics.pairwise import rbf_kernel as RBF_PW\n",
    "\n",
    "# Instantiate the RBF kernel from sklearn.gaussian_process.kernels\n",
    "rbf_gp = RBF_GP(length_scale=1)\n",
    "\n",
    "# Use the rbf_kernel function from sklearn.metrics.pairwise\n",
    "def rbf_pw(X, Y=None, length_scale=1.0):\n",
    "    gamma = 1.0 / (2 * length_scale ** 2)\n",
    "    return RBF_PW(X, Y, gamma=gamma)"
   ],
   "metadata": {
    "collapsed": false,
    "ExecuteTime": {
     "end_time": "2023-07-03T00:03:17.315203300Z",
     "start_time": "2023-07-03T00:03:17.298340Z"
    }
   }
  },
  {
   "cell_type": "code",
   "execution_count": 291,
   "metadata": {
    "colab": {
     "base_uri": "https://localhost:8080/"
    },
    "id": "vYPFfze2mMkW",
    "outputId": "f9b22c07-5700-48a0-d528-08f1b67f9124",
    "ExecuteTime": {
     "end_time": "2023-07-03T00:05:49.211750200Z",
     "start_time": "2023-07-03T00:05:48.983598Z"
    }
   },
   "outputs": [
    {
     "name": "stdout",
     "output_type": "stream",
     "text": [
      "0.00878706264926538\n"
     ]
    }
   ],
   "source": [
    "rng = np.random.default_rng(1234)\n",
    "import random\n",
    "random.seed(1234)\n",
    "predictions = np.array([random.random() for _ in range(100)])\n",
    "outcomes = np.array([bool(random.getrandbits(1)) for _ in range(100)])\n",
    "#outcomes = predictions.copy()\n",
    "#kommt discrepanz von Kernel vs Impelentierung\n",
    "\n",
    "#ECE bei Ensemble heterogene / homogene\n",
    "#KCE vs. ECE ??\n",
    "\n",
    "\n",
    "# Now you can use these in your calculate_SKCE function\n",
    "print(SKCE(rbf_gp, predictions, outcomes))\n",
    "#print(SKCE(rbf_pw, predictions, outcomes))\n"
   ]
  },
  {
   "cell_type": "code",
   "execution_count": 294,
   "metadata": {
    "id": "iUIjnGPqo8bA",
    "ExecuteTime": {
     "end_time": "2023-07-03T00:07:37.414352100Z",
     "start_time": "2023-07-03T00:07:37.392033800Z"
    }
   },
   "outputs": [
    {
     "data": {
      "text/plain": "0.0069148794873404125"
     },
     "execution_count": 294,
     "metadata": {},
     "output_type": "execute_result"
    }
   ],
   "source": [
    "skce_julia = ca.SKCE(ca.RBFKernel(), unbiased=True)\n",
    "skce_julia(predictions, outcomes)"
   ]
  },
  {
   "cell_type": "code",
   "execution_count": 295,
   "outputs": [
    {
     "name": "stdout",
     "output_type": "stream",
     "text": [
      "SKCE Python took 0.16272282600402832 seconds to execute.\n",
      "SKCE Julia took 0.001984119415283203 seconds to execute.\n"
     ]
    }
   ],
   "source": [
    "# Measure the time taken by function1\n",
    "start_time = time.time()\n",
    "SKCE(rbf_gp, predictions, outcomes)\n",
    "end_time = time.time()\n",
    "print(f\"SKCE Python took {end_time - start_time} seconds to execute.\")\n",
    "\n",
    "# Measure the time taken by function2\n",
    "start_time = time.time()\n",
    "skce_julia(predictions, outcomes)\n",
    "end_time = time.time()\n",
    "print(f\"SKCE Julia took {end_time - start_time} seconds to execute.\")"
   ],
   "metadata": {
    "collapsed": false,
    "ExecuteTime": {
     "end_time": "2023-07-03T00:07:37.907503700Z",
     "start_time": "2023-07-03T00:07:37.727459500Z"
    }
   }
  },
  {
   "cell_type": "code",
   "execution_count": null,
   "outputs": [],
   "source": [],
   "metadata": {
    "collapsed": false
   }
  }
 ],
 "metadata": {
  "colab": {
   "provenance": []
  },
  "kernelspec": {
   "name": "python3",
   "language": "python",
   "display_name": "Python 3 (ipykernel)"
  },
  "language_info": {
   "name": "python"
  }
 },
 "nbformat": 4,
 "nbformat_minor": 0
}
