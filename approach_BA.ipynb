{
 "cells": [
  {
   "cell_type": "code",
   "execution_count": 42,
   "metadata": {
    "id": "2sJN4JN-mU6z",
    "ExecuteTime": {
     "end_time": "2023-06-12T18:38:04.100448700Z",
     "start_time": "2023-06-12T18:38:04.079785900Z"
    }
   },
   "outputs": [],
   "source": [
    "import numpy as np\n",
    "import random\n",
    "from sklearn.metrics.pairwise import pairwise_kernels, linear_kernel, polynomial_kernel,rbf_kernel,sigmoid_kernel,laplacian_kernel\n",
    "from sklearn.gaussian_process.kernels import Matern, WhiteKernel\n",
    "from pycalibration import ca"
   ]
  },
  {
   "cell_type": "code",
   "execution_count": 66,
   "metadata": {
    "id": "DhSbZL5eoQUQ",
    "ExecuteTime": {
     "end_time": "2023-06-12T18:47:18.861250100Z",
     "start_time": "2023-06-12T18:47:18.838932800Z"
    }
   },
   "outputs": [],
   "source": [
    "def calculate_SKCE_Matrix_Element(i, i_outcome, j, j_outcome, kernel):\n",
    "    # dot product for n-dimensional vectors\n",
    "    return np.dot(np.subtract(i_outcome,i), np.dot(kernel(i.reshape(-1,1), j.reshape(-1,1)),(j_outcome - j)))\n",
    "\n",
    "def calculate_SKCE(predictions, outcomes, kernel):\n",
    "    n = len(predictions)\n",
    "    matrix = np.zeros((n, n))\n",
    "\n",
    "    for i in range(n):\n",
    "        for j in range(i+1, n):\n",
    "            matrix[i, j] = calculate_SKCE_Matrix_Element(predictions[i], outcomes[i], predictions[j], outcomes[j], kernel)\n",
    "\n",
    "    upper_triangle = np.triu(matrix,1)\n",
    "    sum_upper = np.sum(upper_triangle)\n",
    "    count_upper = (n * (n-1)) // 2  # We are using integer division here because we are dealing with indices\n",
    "    return np.divide(sum_upper, count_upper) if count_upper else 0\n",
    "\n",
    "def transform_outcomes(predictions, outcomes):\n",
    "    #creates vector for outcomes to match predictions shape\n",
    "    transformed_outcomes = np.zeros_like(predictions)\n",
    "    transformed_outcomes[np.arange(len(predictions)), outcomes] = 1\n",
    "    return transformed_outcomes"
   ]
  },
  {
   "cell_type": "code",
   "execution_count": 74,
   "metadata": {
    "colab": {
     "base_uri": "https://localhost:8080/"
    },
    "id": "vYPFfze2mMkW",
    "outputId": "f9b22c07-5700-48a0-d528-08f1b67f9124",
    "ExecuteTime": {
     "end_time": "2023-06-12T18:49:55.959975Z",
     "start_time": "2023-06-12T18:49:55.794780400Z"
    }
   },
   "outputs": [
    {
     "name": "stdout",
     "output_type": "stream",
     "text": [
      "0.008787062649265378\n"
     ]
    }
   ],
   "source": [
    "rng = np.random.default_rng(1234)\n",
    "import random\n",
    "random.seed(1234)\n",
    "predictions = np.array([random.random() for _ in range(100)])\n",
    "outcomes = np.array([bool(random.getrandbits(1)) for _ in range(100)])\n",
    "\n",
    "from sklearn.gaussian_process.kernels import RBF, Exponentiation, WhiteKernel\n",
    "\n",
    "\n",
    "# Create an RBF Kernel\n",
    "rbf_kernel = RBF()\n",
    "white_kernel = WhiteKernel(noise_level=1.0)\n",
    "\n",
    "# Combine the two kernels\n",
    "kernel = rbf_kernel\n",
    "\n",
    "\n",
    "\n",
    "#transformed_outcomes = transform_outcomes(predictions, outcomes)\n",
    "print(calculate_SKCE(predictions.reshape(-1,1), outcomes.reshape(-1,1), kernel))\n"
   ]
  },
  {
   "cell_type": "code",
   "execution_count": 75,
   "metadata": {
    "id": "iUIjnGPqo8bA",
    "ExecuteTime": {
     "end_time": "2023-06-12T18:49:56.258623900Z",
     "start_time": "2023-06-12T18:49:56.237297100Z"
    }
   },
   "outputs": [
    {
     "data": {
      "text/plain": "0.0069148794873404125"
     },
     "execution_count": 75,
     "metadata": {},
     "output_type": "execute_result"
    }
   ],
   "source": [
    "skce = ca.SKCE(ca.RBFKernel(), unbiased=True)\n",
    "skce(predictions, outcomes)"
   ]
  },
  {
   "cell_type": "code",
   "execution_count": 4,
   "outputs": [],
   "source": [],
   "metadata": {
    "collapsed": false
   }
  }
 ],
 "metadata": {
  "colab": {
   "provenance": []
  },
  "kernelspec": {
   "name": "python3",
   "language": "python",
   "display_name": "Python 3 (ipykernel)"
  },
  "language_info": {
   "name": "python"
  }
 },
 "nbformat": 4,
 "nbformat_minor": 0
}
