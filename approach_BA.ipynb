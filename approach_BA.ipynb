{
 "cells": [
  {
   "cell_type": "code",
   "execution_count": 1,
   "metadata": {
    "id": "2sJN4JN-mU6z",
    "ExecuteTime": {
     "end_time": "2023-07-03T09:15:28.106852800Z",
     "start_time": "2023-07-03T09:15:16.796285Z"
    }
   },
   "outputs": [],
   "source": [
    "import numpy as np\n",
    "import random\n",
    "from sklearn.metrics.pairwise import pairwise_kernels, linear_kernel, polynomial_kernel,rbf_kernel,sigmoid_kernel,laplacian_kernel\n",
    "from sklearn.gaussian_process.kernels import Matern, WhiteKernel\n",
    "from pycalibration import ca\n",
    "import time"
   ]
  },
  {
   "cell_type": "code",
   "execution_count": 10,
   "metadata": {
    "id": "DhSbZL5eoQUQ",
    "ExecuteTime": {
     "end_time": "2023-07-03T09:21:33.796008800Z",
     "start_time": "2023-07-03T09:21:33.778016400Z"
    }
   },
   "outputs": [],
   "source": [
    "import numpy as np\n",
    "\n",
    "def SKCE(kernel, predictions, outcomes):\n",
    "    # Reshape predictions and outcomes into 2D arrays\n",
    "    predictions = np.array(predictions).reshape(-1, 1)\n",
    "    outcomes = np.array(outcomes).reshape(-1, 1)\n",
    "\n",
    "    n = len(outcomes)\n",
    "\n",
    "    # Initialize SKCE\n",
    "    skce_matrix = np.zeros((n,n))\n",
    "\n",
    "    # For each pair of data points\n",
    "    for i in range(n):\n",
    "        for j in range(i+1,n):\n",
    "            # Compute the difference between unit vectors outcomes and predictions\n",
    "            diff_Yi_g_Xi = outcomes[i] - predictions[i]\n",
    "            diff_Yj_g_Xj = outcomes[j] - predictions[j]\n",
    "\n",
    "            # Reshape the differences to be 2D arrays\n",
    "            diff_Yi_g_Xi = diff_Yi_g_Xi.reshape(1, -1)\n",
    "            diff_Yj_g_Xj = diff_Yj_g_Xj.reshape(1, -1)\n",
    "\n",
    "            # Compute the kernel matrix for the pair\n",
    "            k_g_Xi_g_Xj = kernel(predictions[i].reshape(1, -1), predictions[j].reshape(1, -1))\n",
    "\n",
    "            print(diff_Yi_g_Xi, k_g_Xi_g_Xj, diff_Yj_g_Xj)\n",
    "            # Compute the hi,j term\n",
    "            skce_matrix[i,j] = diff_Yi_g_Xi.T * k_g_Xi_g_Xj * diff_Yj_g_Xj\n",
    "\n",
    "    skce = np.sum(skce_matrix)\n",
    "\n",
    "    \n",
    "    # Divide the SKCE by n over 2\n",
    "    prefactor = (n* (n-1)) // 2\n",
    "    skce /= prefactor\n",
    "\n",
    "    return skce\n",
    "\n",
    "\n",
    "def transform_outcomes(predictions, outcomes):\n",
    "    #creates vector for outcomes to match predictions shape\n",
    "    transformed_outcomes = np.zeros_like(predictions)\n",
    "    transformed_outcomes[np.arange(len(predictions)), outcomes] = 1\n",
    "    return transformed_outcomes"
   ]
  },
  {
   "cell_type": "code",
   "execution_count": 11,
   "outputs": [],
   "source": [
    "from sklearn.gaussian_process.kernels import RBF as RBF_GP\n",
    "from sklearn.metrics.pairwise import rbf_kernel as RBF_PW\n",
    "\n",
    "# Instantiate the RBF kernel from sklearn.gaussian_process.kernels\n",
    "rbf_gp = RBF_GP(length_scale=1)\n",
    "\n",
    "# Use the rbf_kernel function from sklearn.metrics.pairwise\n",
    "def rbf_pw(X, Y=None, length_scale=1.0):\n",
    "    gamma = 1.0 / (2 * length_scale ** 2)\n",
    "    return RBF_PW(X, Y, gamma=gamma)"
   ],
   "metadata": {
    "collapsed": false,
    "ExecuteTime": {
     "end_time": "2023-07-03T09:21:34.202184700Z",
     "start_time": "2023-07-03T09:21:34.187304300Z"
    }
   }
  },
  {
   "cell_type": "code",
   "execution_count": 30,
   "metadata": {
    "colab": {
     "base_uri": "https://localhost:8080/"
    },
    "id": "vYPFfze2mMkW",
    "outputId": "f9b22c07-5700-48a0-d528-08f1b67f9124",
    "ExecuteTime": {
     "end_time": "2023-07-03T10:07:09.905348800Z",
     "start_time": "2023-07-03T10:07:09.896928600Z"
    }
   },
   "outputs": [
    {
     "name": "stdout",
     "output_type": "stream",
     "text": [
      "[[-0.1]] [[0.72614904]] [[0.1]]\n"
     ]
    },
    {
     "data": {
      "text/plain": "-0.007261490370736909"
     },
     "execution_count": 30,
     "metadata": {},
     "output_type": "execute_result"
    }
   ],
   "source": [
    "rng = np.random.default_rng(1234)\n",
    "import random\n",
    "random.seed(1234)\n",
    "#predictions = np.array([random.random() for _ in range(100)])\n",
    "#outcomes = np.array([bool(random.getrandbits(1)) for _ in range(100)])\n",
    "#outcomes = predictions.copy()\n",
    "#kommt discrepanz von Kernel vs Impelentierung\n",
    "\n",
    "#ECE bei Ensemble heterogene / homogene\n",
    "#KCE vs. ECE ??\n",
    "\n",
    "predictions = np.array([ 0.1, 0.9])\n",
    "outcomes = np.array([ 0, 1])\n",
    "outcomes = np.array([False,True])\n",
    "\n",
    "\n",
    "\n",
    "# Now you can use these in your calculate_SKCE function\n",
    "SKCE(rbf_pw, predictions, outcomes)\n",
    "#print(SKCE(rbf_pw, predictions, outcomes))\n"
   ]
  },
  {
   "cell_type": "code",
   "execution_count": 31,
   "metadata": {
    "id": "iUIjnGPqo8bA",
    "ExecuteTime": {
     "end_time": "2023-07-03T10:07:10.236382100Z",
     "start_time": "2023-07-03T10:07:10.222495800Z"
    }
   },
   "outputs": [
    {
     "data": {
      "text/plain": "-0.005714347651353832"
     },
     "execution_count": 31,
     "metadata": {},
     "output_type": "execute_result"
    }
   ],
   "source": [
    "skce_julia = ca.SKCE(ca.RBFKernel(), unbiased=True)\n",
    "skce_julia(predictions, outcomes)"
   ]
  },
  {
   "cell_type": "code",
   "execution_count": 9,
   "outputs": [
    {
     "name": "stdout",
     "output_type": "stream",
     "text": [
      "SKCE Python took 0.23659086227416992 seconds to execute.\n",
      "SKCE Julia took 0.0029761791229248047 seconds to execute.\n"
     ]
    }
   ],
   "source": [
    "# Measure the time taken by function1\n",
    "start_time = time.time()\n",
    "SKCE(rbf_gp, predictions, outcomes)\n",
    "end_time = time.time()\n",
    "print(f\"SKCE Python took {end_time - start_time} seconds to execute.\")\n",
    "\n",
    "# Measure the time taken by function2\n",
    "start_time = time.time()\n",
    "skce_julia(predictions, outcomes)\n",
    "end_time = time.time()\n",
    "print(f\"SKCE Julia took {end_time - start_time} seconds to execute.\")"
   ],
   "metadata": {
    "collapsed": false,
    "ExecuteTime": {
     "end_time": "2023-07-03T09:08:55.665546200Z",
     "start_time": "2023-07-03T09:08:55.409115200Z"
    }
   }
  },
  {
   "cell_type": "code",
   "execution_count": 10,
   "outputs": [],
   "source": [],
   "metadata": {
    "collapsed": false,
    "ExecuteTime": {
     "end_time": "2023-07-03T09:08:57.493800400Z",
     "start_time": "2023-07-03T09:08:57.453625400Z"
    }
   }
  }
 ],
 "metadata": {
  "colab": {
   "provenance": []
  },
  "kernelspec": {
   "name": "python3",
   "language": "python",
   "display_name": "Python 3 (ipykernel)"
  },
  "language_info": {
   "name": "python"
  }
 },
 "nbformat": 4,
 "nbformat_minor": 0
}
