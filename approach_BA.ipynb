{
  "nbformat": 4,
  "nbformat_minor": 0,
  "metadata": {
    "colab": {
      "provenance": []
    },
    "kernelspec": {
      "name": "python3",
      "display_name": "Python 3"
    },
    "language_info": {
      "name": "python"
    }
  },
  "cells": [
    {
      "cell_type": "code",
      "source": [
        "import numpy as np"
      ],
      "metadata": {
        "id": "ab89w3_2zGXh"
      },
      "execution_count": 13,
      "outputs": []
    },
    {
      "cell_type": "code",
      "source": [
        "from sklearn.gaussian_process.kernels import RBF"
      ],
      "metadata": {
        "id": "fCWW3VtBzRlm"
      },
      "execution_count": 14,
      "outputs": []
    },
    {
      "cell_type": "code",
      "source": [
        "def linear_kernel(a, b):\n",
        "    return np.dot(a, b)\n"
      ],
      "metadata": {
        "id": "geUBcVLlgaCz"
      },
      "execution_count": 16,
      "outputs": []
    },
    {
      "cell_type": "code",
      "source": [
        "def calculate_SKCE_Matrix_Element(I,J,kernel):\n",
        "    #I and J are both tuples of (x,y)\n",
        "    i_j = np.subtract(I[1],I[0]).T * kernel(I[0],J[0]) * np.subtract(J[1], J[0])\n",
        "    return i_j\n"
      ],
      "metadata": {
        "id": "gPxR9MUSzJHe"
      },
      "execution_count": 17,
      "outputs": []
    },
    {
      "cell_type": "code",
      "source": [
        "def upper_triangular_matrix(items):\n",
        "    n = len(items)\n",
        "    matrix = np.zeros((n, n))\n",
        "    for i in range(n):\n",
        "        for j in range(i, n):\n",
        "            matrix[i, j] = calculate_SKCE_Matrix_Element(items[i],items[j],linear_kernel)\n",
        "    return matrix"
      ],
      "metadata": {
        "id": "c3rVseAGzNDl"
      },
      "execution_count": 18,
      "outputs": []
    },
    {
      "cell_type": "code",
      "source": [
        "def average_upper_triangle(matrix):\n",
        "    upper_triangle = np.triu(matrix)\n",
        "    sum_upper = np.sum(upper_triangle)\n",
        "    count_upper = np.count_nonzero(upper_triangle)\n",
        "    return sum_upper / count_upper"
      ],
      "metadata": {
        "id": "onsRQpOe4a4D"
      },
      "execution_count": 19,
      "outputs": []
    },
    {
      "cell_type": "code",
      "source": [
        "items = np.array([(1, 2), (3, 4), (5, 6)])\n",
        "\n",
        "matrix = upper_triangular_matrix(items)\n",
        "\n",
        "print(matrix)\n",
        "print(average_upper_triangle(matrix))"
      ],
      "metadata": {
        "colab": {
          "base_uri": "https://localhost:8080/"
        },
        "id": "SfFzsxlozjaa",
        "outputId": "a0e3c995-25a4-4c5f-ce32-be0f5449fe6f"
      },
      "execution_count": 20,
      "outputs": [
        {
          "output_type": "stream",
          "name": "stdout",
          "text": [
            "[[ 1.  3.  5.]\n",
            " [ 0.  9. 15.]\n",
            " [ 0.  0. 25.]]\n",
            "9.666666666666666\n"
          ]
        }
      ]
    },
    {
      "cell_type": "code",
      "source": [],
      "metadata": {
        "id": "jLUw4WTSglqG"
      },
      "execution_count": null,
      "outputs": []
    }
  ]
}