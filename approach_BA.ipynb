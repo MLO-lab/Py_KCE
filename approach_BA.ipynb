{
  "cells": [
    {
      "cell_type": "code",
      "execution_count": 13,
      "metadata": {
        "id": "2sJN4JN-mU6z"
      },
      "outputs": [],
      "source": [
        "import numpy as np\n",
        "import random"
      ]
    },
    {
      "cell_type": "code",
      "execution_count": 14,
      "metadata": {
        "id": "DhSbZL5eoQUQ"
      },
      "outputs": [],
      "source": [
        "def linear_kernel(a, b):\n",
        "    return np.dot(a, b)\n",
        "\n",
        "def calculate_SKCE_Matrix_Element(i, i_outcome, j, j_outcome, kernel):\n",
        "    # dot product for n-dimensional vectors\n",
        "    return np.dot(np.subtract(i_outcome,i), np.dot(kernel(i, j),(j_outcome - j)))\n",
        "\n",
        "def calculate_SKCE(predictions, outcomes, kernel):\n",
        "    n = len(predictions)\n",
        "    matrix = np.zeros((n, n))\n",
        "\n",
        "    for i in range(n):\n",
        "        for j in range(i, n):\n",
        "            matrix[i, j] = calculate_SKCE_Matrix_Element(predictions[i], outcomes[i], predictions[j], outcomes[j], kernel)\n",
        "    \n",
        "    upper_triangle = np.triu(matrix)\n",
        "    sum_upper = np.sum(upper_triangle)\n",
        "    count_upper = (n * (n-1)) // 2  # We are using integer division here because we are dealing with indices\n",
        "    return np.divide(sum_upper, count_upper) if count_upper else 0\n",
        "\n",
        "def transform_outcomes(predictions, outcomes):\n",
        "    #creates vector for outcomes to match predictions shape\n",
        "    transformed_outcomes = np.zeros_like(predictions)\n",
        "    transformed_outcomes[np.arange(len(predictions)), outcomes] = 1\n",
        "    return transformed_outcomes"
      ]
    },
    {
      "cell_type": "code",
      "execution_count": 15,
      "metadata": {
        "colab": {
          "base_uri": "https://localhost:8080/"
        },
        "id": "vYPFfze2mMkW",
        "outputId": "f9b22c07-5700-48a0-d528-08f1b67f9124"
      },
      "outputs": [
        {
          "name": "stdout",
          "output_type": "stream",
          "text": [
            "0.10491347056524478\n"
          ]
        }
      ],
      "source": [
        "rng = np.random.default_rng(1234)\n",
        "predictions = rng.random((100, 3))  # Assume 3 classes so outcomes are 3-dimensional vectors\n",
        "outcomes = rng.integers(0, 3, 100)  # Outcomes are integers ranging from 0 to 2 (3 classes)\n",
        "\n",
        "transformed_outcomes = transform_outcomes(predictions, outcomes)\n",
        "print(calculate_SKCE(predictions, transformed_outcomes, linear_kernel))\n"
      ]
    },
    {
      "cell_type": "code",
      "execution_count": 16,
      "metadata": {
        "id": "Xfi85QdpoK3J"
      },
      "outputs": [],
      "source": [
        "#outcome Matrix:\n",
        "\n",
        "\n",
        "diff_outcomes_matrix = outcomes[:, np.newaxis] - predictions[np.newaxis, :]"
      ]
    },
    {
      "cell_type": "code",
      "execution_count": null,
      "metadata": {
        "id": "iUIjnGPqo8bA"
      },
      "outputs": [],
      "source": []
    }
  ],
  "metadata": {
    "colab": {
      "provenance": []
    },
    "kernelspec": {
      "display_name": "Python 3",
      "name": "python3"
    },
    "language_info": {
      "name": "python"
    }
  },
  "nbformat": 4,
  "nbformat_minor": 0
}
