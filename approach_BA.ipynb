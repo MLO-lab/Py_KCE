{
 "cells": [
  {
   "cell_type": "code",
   "execution_count": 9,
   "metadata": {
    "ExecuteTime": {
     "end_time": "2023-06-01T11:45:30.000646400Z",
     "start_time": "2023-06-01T11:45:29.990732600Z"
    },
    "id": "2sJN4JN-mU6z"
   },
   "outputs": [],
   "source": [
    "from sklearn.metrics.pairwise import linear_kernel, polynomial_kernel,rbf_kernel,sigmoid_kernel\n",
    "from sklearn.preprocessing import OneHotEncoder\n",
    "import numpy as np\n",
    "import random"
   ]
  },
  {
   "cell_type": "code",
   "execution_count": 10,
   "metadata": {
    "ExecuteTime": {
     "end_time": "2023-06-01T11:45:30.028690600Z",
     "start_time": "2023-06-01T11:45:30.004613700Z"
    },
    "id": "DhSbZL5eoQUQ"
   },
   "outputs": [],
   "source": [
    "def calculate_unbiased_MMD(predictions, outcomes, kernel):\n",
    "    # Compute the kernel matrices\n",
    "    K_XX = kernel(predictions, predictions)\n",
    "    K_YY = kernel(outcomes, outcomes)\n",
    "    K_XY = kernel(predictions, outcomes)\n",
    "    \n",
    "    # Compute the upper triangles of the kernel matrices, excluding the diagonal\n",
    "    K_XX_upper = np.triu(K_XX, 1)\n",
    "    K_YY_upper = np.triu(K_YY, 1)\n",
    "    K_XY_upper = np.triu(K_XY, 1)\n",
    "    \n",
    "    # Compute the MMD\n",
    "    MMD = np.mean(K_XX_upper) + np.mean(K_YY_upper) - 2 * np.mean(K_XY_upper)\n",
    "    \n",
    "    return MMD\n",
    "\n",
    "def transform_outcomes(predictions, outcomes):\n",
    "    #creates vector for outcomes to match predictions shape\n",
    "    transformed_outcomes = np.zeros_like(predictions)\n",
    "    transformed_outcomes[np.arange(len(predictions)), outcomes] = 1\n",
    "    return transformed_outcomes\n"
   ]
  },
  {
   "cell_type": "code",
   "execution_count": 11,
   "metadata": {
    "ExecuteTime": {
     "end_time": "2023-06-01T11:45:30.073602300Z",
     "start_time": "2023-06-01T11:45:30.018275800Z"
    },
    "colab": {
     "base_uri": "https://localhost:8080/"
    },
    "id": "vYPFfze2mMkW",
    "outputId": "f9b22c07-5700-48a0-d528-08f1b67f9124"
   },
   "outputs": [
    {
     "name": "stdout",
     "output_type": "stream",
     "text": [
      "0.12582513851564434\n"
     ]
    }
   ],
   "source": [
    "rng = np.random.default_rng(1234)\n",
    "predictions = rng.random((100, 2))  # Assume 3 classes so outcomes are 3-dimensional vectors\n",
    "outcomes = rng.integers(0, 2, 100)  # Outcomes are integers ranging from 0 to 2 (3 classes)\n",
    "\n",
    "transformed_outcomes = transform_outcomes(predictions, outcomes)\n",
    "print(calculate_unbiased_MMD(predictions, transformed_outcomes, linear_kernel))\n"
   ]
  },
  {
   "cell_type": "code",
   "execution_count": 12,
   "metadata": {
    "ExecuteTime": {
     "end_time": "2023-06-01T11:45:30.088534Z",
     "start_time": "2023-06-01T11:45:30.078050100Z"
    },
    "id": "Xfi85QdpoK3J"
   },
   "outputs": [],
   "source": [
    "#outcome Matrix:\n",
    "\n",
    "\n",
    "diff_outcomes_matrix = outcomes[:, np.newaxis] - predictions[np.newaxis, :]"
   ]
  },
  {
   "cell_type": "code",
   "execution_count": 12,
   "metadata": {
    "ExecuteTime": {
     "end_time": "2023-06-01T11:45:30.131818200Z",
     "start_time": "2023-06-01T11:45:30.091510300Z"
    },
    "id": "iUIjnGPqo8bA"
   },
   "outputs": [],
   "source": []
  }
 ],
 "metadata": {
  "colab": {
   "provenance": []
  },
  "kernelspec": {
   "display_name": "Python 3 (ipykernel)",
   "language": "python",
   "name": "python3"
  },
  "language_info": {
   "name": "python"
  }
 },
 "nbformat": 4,
 "nbformat_minor": 0
}
