{
 "cells": [
  {
   "cell_type": "code",
   "execution_count": 9,
   "metadata": {
    "id": "2sJN4JN-mU6z",
    "ExecuteTime": {
     "end_time": "2023-06-01T11:45:30.000646400Z",
     "start_time": "2023-06-01T11:45:29.990732600Z"
    }
   },
   "outputs": [],
   "source": [
    "import numpy as np\n",
    "import random"
   ]
  },
  {
   "cell_type": "code",
   "execution_count": 10,
   "metadata": {
    "id": "DhSbZL5eoQUQ",
    "ExecuteTime": {
     "end_time": "2023-06-01T11:45:30.028690600Z",
     "start_time": "2023-06-01T11:45:30.004613700Z"
    }
   },
   "outputs": [],
   "source": [
    "def linear_kernel(a, b, c=0):\n",
    "    \"\"\"\n",
    "    The linear kernel is a Mercer kernel given by\n",
    "    κ(x,y) = ρ²xᵀy + c\n",
    "    Where `c` is a real number.\n",
    "    \"\"\"\n",
    "    return np.dot(a, b) + c\n",
    "\n",
    "\n",
    "def polynomial_kernel(a, b, d=2, c=0):\n",
    "    \"\"\"\n",
    "    The polynomial kernel is a Mercer kernel given by\n",
    "    κ(x,y) = (ρ²xᵀy + c)^d\n",
    "    Where `c` is a real number, and `d` is a shape parameter bigger than 1\n",
    "    \"\"\"\n",
    "    return (np.dot(a, b) + c) ** d\n",
    "\n",
    "\n",
    "def calculate_SKCE_Matrix_Element(i, i_outcome, j, j_outcome, kernel):\n",
    "    # dot product for n-dimensional vectors\n",
    "    return np.dot(np.subtract(i_outcome,i), np.dot(kernel(i, j),(j_outcome - j)))\n",
    "\n",
    "def calculate_SKCE(predictions, outcomes, kernel):\n",
    "    n = len(predictions)\n",
    "    matrix = np.zeros((n, n))\n",
    "\n",
    "    for i in range(n):\n",
    "        for j in range(i, n):\n",
    "            matrix[i, j] = calculate_SKCE_Matrix_Element(predictions[i], outcomes[i], predictions[j], outcomes[j], kernel)\n",
    "\n",
    "    upper_triangle = np.triu(matrix)\n",
    "    sum_upper = np.sum(upper_triangle)\n",
    "    count_upper = (n * (n-1)) // 2  # We are using integer division here because we are dealing with indices\n",
    "    return np.divide(sum_upper, count_upper) if count_upper else 0\n",
    "\n",
    "def transform_outcomes(predictions, outcomes):\n",
    "    #creates vector for outcomes to match predictions shape\n",
    "    transformed_outcomes = np.zeros_like(predictions)\n",
    "    transformed_outcomes[np.arange(len(predictions)), outcomes] = 1\n",
    "    return transformed_outcomes"
   ]
  },
  {
   "cell_type": "code",
   "execution_count": 11,
   "metadata": {
    "colab": {
     "base_uri": "https://localhost:8080/"
    },
    "id": "vYPFfze2mMkW",
    "outputId": "f9b22c07-5700-48a0-d528-08f1b67f9124",
    "ExecuteTime": {
     "end_time": "2023-06-01T11:45:30.073602300Z",
     "start_time": "2023-06-01T11:45:30.018275800Z"
    }
   },
   "outputs": [
    {
     "name": "stdout",
     "output_type": "stream",
     "text": [
      "0.12582513851564434\n"
     ]
    }
   ],
   "source": [
    "rng = np.random.default_rng(1234)\n",
    "predictions = rng.random((100, 3))  # Assume 3 classes so outcomes are 3-dimensional vectors\n",
    "outcomes = rng.integers(0, 3, 100)  # Outcomes are integers ranging from 0 to 2 (3 classes)\n",
    "\n",
    "transformed_outcomes = transform_outcomes(predictions, outcomes)\n",
    "print(calculate_SKCE(predictions, transformed_outcomes, linear_kernel))\n"
   ]
  },
  {
   "cell_type": "code",
   "execution_count": 12,
   "metadata": {
    "id": "Xfi85QdpoK3J",
    "ExecuteTime": {
     "end_time": "2023-06-01T11:45:30.088534Z",
     "start_time": "2023-06-01T11:45:30.078050100Z"
    }
   },
   "outputs": [],
   "source": [
    "#outcome Matrix:\n",
    "\n",
    "\n",
    "diff_outcomes_matrix = outcomes[:, np.newaxis] - predictions[np.newaxis, :]"
   ]
  },
  {
   "cell_type": "code",
   "execution_count": 12,
   "metadata": {
    "id": "iUIjnGPqo8bA",
    "ExecuteTime": {
     "end_time": "2023-06-01T11:45:30.131818200Z",
     "start_time": "2023-06-01T11:45:30.091510300Z"
    }
   },
   "outputs": [],
   "source": []
  }
 ],
 "metadata": {
  "colab": {
   "provenance": []
  },
  "kernelspec": {
   "name": "python3",
   "language": "python",
   "display_name": "Python 3 (ipykernel)"
  },
  "language_info": {
   "name": "python"
  }
 },
 "nbformat": 4,
 "nbformat_minor": 0
}
