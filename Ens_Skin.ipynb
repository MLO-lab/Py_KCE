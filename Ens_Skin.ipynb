{
 "cells": [
  {
   "cell_type": "code",
   "execution_count": 6,
   "id": "18e14ad4-065f-491c-ad50-f3e889262aba",
   "metadata": {
    "collapsed": true,
    "jupyter": {
     "outputs_hidden": true
    },
    "tags": [],
    "ExecuteTime": {
     "end_time": "2023-08-20T12:07:21.532734800Z",
     "start_time": "2023-08-20T12:07:20.996561300Z"
    }
   },
   "outputs": [],
   "source": [
    "# import plotly.express as px\n",
    "# fig = px.scatter_3d(results, x='1 - eConfidence Score', y='Bregman Information', z='NLL')\n",
    "# fig.show();"
   ]
  },
  {
   "cell_type": "code",
   "execution_count": 7,
   "id": "590fef03-2ad3-4c34-bf92-774efc8c1644",
   "metadata": {
    "ExecuteTime": {
     "end_time": "2023-08-20T12:07:21.621519300Z",
     "start_time": "2023-08-20T12:07:21.021857600Z"
    }
   },
   "outputs": [],
   "source": [
    "import numpy as np\n",
    "import pandas as pd\n",
    "import seaborn as sns\n",
    "import torch\n",
    "\n",
    "from copy import deepcopy\n",
    "from torch.nn.functional import softplus, binary_cross_entropy\n",
    "from torchmetrics.classification import BinaryCalibrationError, BinaryAUROC\n",
    "\n",
    "save_file = 'plots/x={}__y={}__hue={}__col={}__style={}.pdf'"
   ]
  },
  {
   "cell_type": "code",
   "execution_count": 8,
   "id": "b6ea2cbf-f39d-47f2-aa0d-72dd84fe7191",
   "metadata": {
    "ExecuteTime": {
     "end_time": "2023-08-20T12:07:21.622015300Z",
     "start_time": "2023-08-20T12:07:21.036736400Z"
    }
   },
   "outputs": [],
   "source": [
    "from scipy.optimize import minimize\n",
    "from scipy.special import expit\n",
    "from sklearn.metrics import log_loss\n",
    "\n",
    "class TemperatureScaling():\n",
    "\n",
    "    def __init__(self, temp=1, maxiter=100, solver=\"BFGS\", loss='NLL'):\n",
    "        \"\"\"\n",
    "        Initialize class\n",
    "        Params:\n",
    "            temp (float): starting temperature, default 1\n",
    "            maxiter (int): maximum iterations done by optimizer, however 8 iterations have been maximum.\n",
    "        \"\"\"\n",
    "        self.temp = temp\n",
    "        self.maxiter = maxiter\n",
    "        self.solver = solver\n",
    "        self.loss = loss\n",
    "\n",
    "    def _loss_fun(self, x, logits, true):\n",
    "        scaled_l = self.predict(logits, x)\n",
    "        loss = log_loss(true, expit(scaled_l))\n",
    "        return loss\n",
    "\n",
    "    # Find the temperature\n",
    "    def fit(self, logits, true, verbose=False):\n",
    "        true = true.flatten() # Flatten y_val\n",
    "        opt = minimize(self._loss_fun, x0 = 1, args=(logits, true), options={'maxiter':self.maxiter}, method = self.solver)\n",
    "        self.temp = opt.x[0]\n",
    "\n",
    "        if verbose:\n",
    "            print(\"Temperature:\", 1/self.temp)\n",
    "\n",
    "        return opt\n",
    "\n",
    "    def predict(self, logits, temp = None):\n",
    "        if not temp:\n",
    "            return logits/self.temp\n",
    "        else:\n",
    "            return logits/temp"
   ]
  },
  {
   "cell_type": "code",
   "execution_count": 9,
   "id": "eed026d5-3ce4-4a3b-9684-24086af6311b",
   "metadata": {
    "ExecuteTime": {
     "end_time": "2023-08-20T12:07:21.622015300Z",
     "start_time": "2023-08-20T12:07:21.053601900Z"
    }
   },
   "outputs": [],
   "source": [
    "def AUROC(preds, targets):\n",
    "    return BinaryAUROC()(preds, targets)\n",
    "\n",
    "def ECE(preds, targets, bins=15):\n",
    "    metric = BinaryCalibrationError(n_bins=bins, norm='l1')\n",
    "    return metric(preds, targets)\n",
    "\n",
    "def ACC(preds, targets):\n",
    "    return ((preds > 0.5) == targets).to(dtype=torch.float).mean()\n",
    "\n",
    "def BI_softplus(logits, axis=0):\n",
    "    return softplus(logits).mean(axis) - softplus(logits.mean(axis))\n",
    "\n",
    "def load_val_set(model_ids):\n",
    "    predss = []\n",
    "    logits = []\n",
    "\n",
    "    for model_id in model_ids:\n",
    "        raw_data = torch.load('../Model Soup/{}/AA_val1.csv.pt'.format(model_id))\n",
    "        preds = raw_data['predict1.HOLDOUT_VAL1'][0][:, 1]\n",
    "        predss.append(preds)\n",
    "        logits.append(preds.logit())\n",
    "\n",
    "    # ys are the same\n",
    "    return torch.stack(predss), torch.stack(logits), raw_data['predict1.HOLDOUT_VAL1'][1].to(dtype=torch.float)\n",
    "\n",
    "def load_test_set(model_ids, test_ids=['predict.HOLDOUT']):\n",
    "    predss = []\n",
    "    logits = []\n",
    "    for model_id in model_ids:\n",
    "        predss_inner = []\n",
    "        logits_inner = []\n",
    "        ys = []\n",
    "        for test_id in test_ids:\n",
    "            raw_data = torch.load('../Model Soup/{}/AA_test.csv.pt'.format(model_id))\n",
    "            preds = raw_data[test_id][0][:, 1]\n",
    "            predss_inner.append(preds)\n",
    "            logits_inner.append(preds.logit())\n",
    "            ys.append(raw_data[test_id][1])\n",
    "        predss.append(torch.concat(predss_inner))\n",
    "        logits.append(torch.concat(logits_inner))\n",
    "        # ys are the same across ensemble members\n",
    "\n",
    "    return torch.stack(predss), torch.stack(logits), torch.concat(ys).to(dtype=torch.float)\n",
    "\n",
    "test_ids = [\n",
    "    'predict.DERM7PT',\n",
    "    'predict.ISIC2020_SIDNEY',\n",
    "    'predict.MSK', \n",
    "    'predict.PH2',\n",
    "    'predict.SAM',\n",
    "    'predict.SKINL2'\n",
    "]"
   ]
  },
  {
   "cell_type": "code",
   "execution_count": 10,
   "id": "b0d4c3b4-6afa-4c69-931b-7bc5e9d7029f",
   "metadata": {
    "ExecuteTime": {
     "end_time": "2023-08-20T12:07:21.624991600Z",
     "start_time": "2023-08-20T12:07:21.099233300Z"
    }
   },
   "outputs": [
    {
     "ename": "FileNotFoundError",
     "evalue": "[Errno 2] No such file or directory: '../Model Soup/040.24/AA_val1.csv.pt'",
     "output_type": "error",
     "traceback": [
      "\u001B[1;31m---------------------------------------------------------------------------\u001B[0m",
      "\u001B[1;31mFileNotFoundError\u001B[0m                         Traceback (most recent call last)",
      "Cell \u001B[1;32mIn[10], line 20\u001B[0m\n\u001B[0;32m     17\u001B[0m model_rep \u001B[38;5;241m=\u001B[39m np\u001B[38;5;241m.\u001B[39mrandom\u001B[38;5;241m.\u001B[39mchoice(\u001B[38;5;28mrange\u001B[39m(\u001B[38;5;241m5\u001B[39m), size, replace\u001B[38;5;241m=\u001B[39m\u001B[38;5;28;01mFalse\u001B[39;00m)\n\u001B[0;32m     18\u001B[0m model_ids \u001B[38;5;241m=\u001B[39m [\u001B[38;5;124m'\u001B[39m\u001B[38;5;124m0\u001B[39m\u001B[38;5;132;01m{}\u001B[39;00m\u001B[38;5;124m0.2\u001B[39m\u001B[38;5;132;01m{}\u001B[39;00m\u001B[38;5;124m'\u001B[39m\u001B[38;5;241m.\u001B[39mformat(m, n) \u001B[38;5;28;01mfor\u001B[39;00m m \u001B[38;5;129;01min\u001B[39;00m model_arch \u001B[38;5;28;01mfor\u001B[39;00m n \u001B[38;5;129;01min\u001B[39;00m model_rep]\n\u001B[1;32m---> 20\u001B[0m pss_val, _, ys_val \u001B[38;5;241m=\u001B[39m \u001B[43mload_val_set\u001B[49m\u001B[43m(\u001B[49m\u001B[43mmodel_ids\u001B[49m\u001B[43m)\u001B[49m\n\u001B[0;32m     21\u001B[0m pss_test_id, _, ys_test_id \u001B[38;5;241m=\u001B[39m load_test_set(model_ids)\n\u001B[0;32m     22\u001B[0m pss_test_ood, _, ys_test_ood \u001B[38;5;241m=\u001B[39m load_test_set(model_ids, test_ids\u001B[38;5;241m=\u001B[39mtest_ids)\n",
      "Cell \u001B[1;32mIn[9], line 19\u001B[0m, in \u001B[0;36mload_val_set\u001B[1;34m(model_ids)\u001B[0m\n\u001B[0;32m     16\u001B[0m logits \u001B[38;5;241m=\u001B[39m []\n\u001B[0;32m     18\u001B[0m \u001B[38;5;28;01mfor\u001B[39;00m model_id \u001B[38;5;129;01min\u001B[39;00m model_ids:\n\u001B[1;32m---> 19\u001B[0m     raw_data \u001B[38;5;241m=\u001B[39m \u001B[43mtorch\u001B[49m\u001B[38;5;241;43m.\u001B[39;49m\u001B[43mload\u001B[49m\u001B[43m(\u001B[49m\u001B[38;5;124;43m'\u001B[39;49m\u001B[38;5;124;43m../Model Soup/\u001B[39;49m\u001B[38;5;132;43;01m{}\u001B[39;49;00m\u001B[38;5;124;43m/AA_val1.csv.pt\u001B[39;49m\u001B[38;5;124;43m'\u001B[39;49m\u001B[38;5;241;43m.\u001B[39;49m\u001B[43mformat\u001B[49m\u001B[43m(\u001B[49m\u001B[43mmodel_id\u001B[49m\u001B[43m)\u001B[49m\u001B[43m)\u001B[49m\n\u001B[0;32m     20\u001B[0m     preds \u001B[38;5;241m=\u001B[39m raw_data[\u001B[38;5;124m'\u001B[39m\u001B[38;5;124mpredict1.HOLDOUT_VAL1\u001B[39m\u001B[38;5;124m'\u001B[39m][\u001B[38;5;241m0\u001B[39m][:, \u001B[38;5;241m1\u001B[39m]\n\u001B[0;32m     21\u001B[0m     predss\u001B[38;5;241m.\u001B[39mappend(preds)\n",
      "File \u001B[1;32m~\\miniconda3\\lib\\site-packages\\torch\\serialization.py:791\u001B[0m, in \u001B[0;36mload\u001B[1;34m(f, map_location, pickle_module, weights_only, **pickle_load_args)\u001B[0m\n\u001B[0;32m    788\u001B[0m \u001B[38;5;28;01mif\u001B[39;00m \u001B[38;5;124m'\u001B[39m\u001B[38;5;124mencoding\u001B[39m\u001B[38;5;124m'\u001B[39m \u001B[38;5;129;01mnot\u001B[39;00m \u001B[38;5;129;01min\u001B[39;00m pickle_load_args\u001B[38;5;241m.\u001B[39mkeys():\n\u001B[0;32m    789\u001B[0m     pickle_load_args[\u001B[38;5;124m'\u001B[39m\u001B[38;5;124mencoding\u001B[39m\u001B[38;5;124m'\u001B[39m] \u001B[38;5;241m=\u001B[39m \u001B[38;5;124m'\u001B[39m\u001B[38;5;124mutf-8\u001B[39m\u001B[38;5;124m'\u001B[39m\n\u001B[1;32m--> 791\u001B[0m \u001B[38;5;28;01mwith\u001B[39;00m \u001B[43m_open_file_like\u001B[49m\u001B[43m(\u001B[49m\u001B[43mf\u001B[49m\u001B[43m,\u001B[49m\u001B[43m \u001B[49m\u001B[38;5;124;43m'\u001B[39;49m\u001B[38;5;124;43mrb\u001B[39;49m\u001B[38;5;124;43m'\u001B[39;49m\u001B[43m)\u001B[49m \u001B[38;5;28;01mas\u001B[39;00m opened_file:\n\u001B[0;32m    792\u001B[0m     \u001B[38;5;28;01mif\u001B[39;00m _is_zipfile(opened_file):\n\u001B[0;32m    793\u001B[0m         \u001B[38;5;66;03m# The zipfile reader is going to advance the current file position.\u001B[39;00m\n\u001B[0;32m    794\u001B[0m         \u001B[38;5;66;03m# If we want to actually tail call to torch.jit.load, we need to\u001B[39;00m\n\u001B[0;32m    795\u001B[0m         \u001B[38;5;66;03m# reset back to the original position.\u001B[39;00m\n\u001B[0;32m    796\u001B[0m         orig_position \u001B[38;5;241m=\u001B[39m opened_file\u001B[38;5;241m.\u001B[39mtell()\n",
      "File \u001B[1;32m~\\miniconda3\\lib\\site-packages\\torch\\serialization.py:271\u001B[0m, in \u001B[0;36m_open_file_like\u001B[1;34m(name_or_buffer, mode)\u001B[0m\n\u001B[0;32m    269\u001B[0m \u001B[38;5;28;01mdef\u001B[39;00m \u001B[38;5;21m_open_file_like\u001B[39m(name_or_buffer, mode):\n\u001B[0;32m    270\u001B[0m     \u001B[38;5;28;01mif\u001B[39;00m _is_path(name_or_buffer):\n\u001B[1;32m--> 271\u001B[0m         \u001B[38;5;28;01mreturn\u001B[39;00m \u001B[43m_open_file\u001B[49m\u001B[43m(\u001B[49m\u001B[43mname_or_buffer\u001B[49m\u001B[43m,\u001B[49m\u001B[43m \u001B[49m\u001B[43mmode\u001B[49m\u001B[43m)\u001B[49m\n\u001B[0;32m    272\u001B[0m     \u001B[38;5;28;01melse\u001B[39;00m:\n\u001B[0;32m    273\u001B[0m         \u001B[38;5;28;01mif\u001B[39;00m \u001B[38;5;124m'\u001B[39m\u001B[38;5;124mw\u001B[39m\u001B[38;5;124m'\u001B[39m \u001B[38;5;129;01min\u001B[39;00m mode:\n",
      "File \u001B[1;32m~\\miniconda3\\lib\\site-packages\\torch\\serialization.py:252\u001B[0m, in \u001B[0;36m_open_file.__init__\u001B[1;34m(self, name, mode)\u001B[0m\n\u001B[0;32m    251\u001B[0m \u001B[38;5;28;01mdef\u001B[39;00m \u001B[38;5;21m__init__\u001B[39m(\u001B[38;5;28mself\u001B[39m, name, mode):\n\u001B[1;32m--> 252\u001B[0m     \u001B[38;5;28msuper\u001B[39m()\u001B[38;5;241m.\u001B[39m\u001B[38;5;21m__init__\u001B[39m(\u001B[38;5;28;43mopen\u001B[39;49m\u001B[43m(\u001B[49m\u001B[43mname\u001B[49m\u001B[43m,\u001B[49m\u001B[43m \u001B[49m\u001B[43mmode\u001B[49m\u001B[43m)\u001B[49m)\n",
      "\u001B[1;31mFileNotFoundError\u001B[0m: [Errno 2] No such file or directory: '../Model Soup/040.24/AA_val1.csv.pt'"
     ]
    }
   ],
   "source": [
    "eces = []\n",
    "accs = []\n",
    "nlls = []\n",
    "aurocs = []\n",
    "set_type = []\n",
    "ens_type = []\n",
    "ens_size = []\n",
    "used_TS = []\n",
    "seeds = []\n",
    "\n",
    "reps = 40\n",
    "for seed in range(reps):\n",
    "    np.random.seed(seed)\n",
    "    for size in range(1, 6):\n",
    "        # homogeneous ens\n",
    "        model_arch = np.random.choice(range(8), 1)\n",
    "        model_rep = np.random.choice(range(5), size, replace=False)\n",
    "        model_ids = ['0{}0.2{}'.format(m, n) for m in model_arch for n in model_rep]\n",
    "        \n",
    "        pss_val, _, ys_val = load_val_set(model_ids)\n",
    "        pss_test_id, _, ys_test_id = load_test_set(model_ids)\n",
    "        pss_test_ood, _, ys_test_ood = load_test_set(model_ids, test_ids=test_ids)\n",
    "        \n",
    "        eps_val = pss_val.mean(0)\n",
    "        eps_test_id = pss_test_id.mean(0)\n",
    "        eps_test_ood = pss_test_ood.mean(0)\n",
    "\n",
    "        nlls.append(binary_cross_entropy(eps_test_id, ys_test_id).item())\n",
    "        accs.append(ACC(eps_test_id, ys_test_id).item())\n",
    "        eces.append(ECE(eps_test_id, ys_test_id).item())\n",
    "        aurocs.append(AUROC(eps_test_id, ys_test_id).item())\n",
    "        ens_type.append('Homogeneous')\n",
    "        set_type.append('In-Domain')\n",
    "        ens_size.append(size)\n",
    "        used_TS.append('No')\n",
    "        seeds.append(seed)\n",
    "        \n",
    "        nlls.append(binary_cross_entropy(eps_test_ood, ys_test_ood).item())\n",
    "        accs.append(ACC(eps_test_ood, ys_test_ood).item())\n",
    "        eces.append(ECE(eps_test_ood, ys_test_ood).item())\n",
    "        aurocs.append(AUROC(eps_test_ood, ys_test_ood).item())\n",
    "        ens_type.append('Homogeneous')\n",
    "        set_type.append('Out-of-Domain')\n",
    "        ens_size.append(size)\n",
    "        used_TS.append('No')\n",
    "        seeds.append(seed)\n",
    "        \n",
    "        TS = TemperatureScaling()\n",
    "        TS.fit(eps_val.logit().numpy(), ys_val.numpy())\n",
    "        TS_eps_test_id = torch.from_numpy(TS.predict(eps_test_id.logit().numpy())).sigmoid()\n",
    "        TS_eps_test_ood = torch.from_numpy(TS.predict(eps_test_ood.logit().numpy())).sigmoid()\n",
    "        \n",
    "        nlls.append(binary_cross_entropy(TS_eps_test_id, ys_test_id).item())\n",
    "        accs.append(ACC(TS_eps_test_id, ys_test_id).item())\n",
    "        eces.append(ECE(TS_eps_test_id, ys_test_id).item())\n",
    "        aurocs.append(AUROC(eps_test_id, ys_test_id).item())\n",
    "        ens_type.append('Homogeneous')\n",
    "        set_type.append('In-Domain')\n",
    "        ens_size.append(size)\n",
    "        used_TS.append('Yes')\n",
    "        seeds.append(seed)\n",
    "        \n",
    "        nlls.append(binary_cross_entropy(TS_eps_test_ood, ys_test_ood).item())\n",
    "        accs.append(ACC(TS_eps_test_ood, ys_test_ood).item())\n",
    "        eces.append(ECE(TS_eps_test_ood, ys_test_ood).item())\n",
    "        aurocs.append(AUROC(eps_test_ood, ys_test_ood).item())\n",
    "        ens_type.append('Homogeneous')\n",
    "        set_type.append('Out-of-Domain')\n",
    "        ens_size.append(size)\n",
    "        used_TS.append('Yes')\n",
    "        seeds.append(seed)\n",
    "\n",
    "        # heterogeneous ens\n",
    "        model_arch = np.random.choice(range(8), size, replace=False)\n",
    "        model_rep = np.random.choice(range(5), 1)\n",
    "        model_ids = ['0{}0.2{}'.format(m, n) for m in model_arch for n in model_rep]\n",
    "        \n",
    "        pss_val, _, ys_val = load_val_set(model_ids)\n",
    "        pss_test_id, _, ys_test_id = load_test_set(model_ids)\n",
    "        pss_test_ood, _, ys_test_ood = load_test_set(model_ids, test_ids=test_ids)\n",
    "        \n",
    "        eps_val = pss_val.mean(0)\n",
    "        eps_test_id = pss_test_id.mean(0)\n",
    "        eps_test_ood = pss_test_ood.mean(0)\n",
    "\n",
    "        nlls.append(binary_cross_entropy(eps_test_id, ys_test_id).item())\n",
    "        accs.append(ACC(eps_test_id, ys_test_id).item())\n",
    "        eces.append(ECE(eps_test_id, ys_test_id).item())\n",
    "        aurocs.append(AUROC(eps_test_id, ys_test_id).item())\n",
    "        set_type.append('In-Domain')\n",
    "        ens_type.append('Heterogeneous')\n",
    "        ens_size.append(size)\n",
    "        used_TS.append('No')\n",
    "        seeds.append(seed)\n",
    "        \n",
    "        nlls.append(binary_cross_entropy(eps_test_ood, ys_test_ood).item())\n",
    "        accs.append(ACC(eps_test_ood, ys_test_ood).item())\n",
    "        eces.append(ECE(eps_test_ood, ys_test_ood).item())\n",
    "        aurocs.append(AUROC(eps_test_ood, ys_test_ood).item())\n",
    "        set_type.append('Out-of-Domain')\n",
    "        ens_type.append('Heterogeneous')\n",
    "        ens_size.append(size)\n",
    "        used_TS.append('No')\n",
    "        seeds.append(seed)\n",
    "        \n",
    "        TS = TemperatureScaling()\n",
    "        TS.fit(eps_val.logit().numpy(), ys_val.numpy())\n",
    "        TS_eps_test_id = torch.from_numpy(TS.predict(eps_test_id.logit().numpy())).sigmoid()\n",
    "        TS_eps_test_ood = torch.from_numpy(TS.predict(eps_test_ood.logit().numpy())).sigmoid()\n",
    "        \n",
    "        nlls.append(binary_cross_entropy(TS_eps_test_id, ys_test_id).item())\n",
    "        accs.append(ACC(TS_eps_test_id, ys_test_id).item())\n",
    "        eces.append(ECE(TS_eps_test_id, ys_test_id).item())\n",
    "        aurocs.append(AUROC(eps_test_id, ys_test_id).item())\n",
    "        set_type.append('In-Domain')\n",
    "        ens_type.append('Heterogeneous')\n",
    "        ens_size.append(size)\n",
    "        used_TS.append('Yes')\n",
    "        seeds.append(seed)\n",
    "        \n",
    "        nlls.append(binary_cross_entropy(TS_eps_test_ood, ys_test_ood).item())\n",
    "        accs.append(ACC(TS_eps_test_ood, ys_test_ood).item())\n",
    "        eces.append(ECE(TS_eps_test_ood, ys_test_ood).item())\n",
    "        aurocs.append(AUROC(eps_test_ood, ys_test_ood).item())\n",
    "        set_type.append('Out-of-Domain')\n",
    "        ens_type.append('Heterogeneous')\n",
    "        ens_size.append(size)\n",
    "        used_TS.append('Yes')\n",
    "        seeds.append(seed)\n",
    "\n",
    "exp_results = pd.DataFrame({\n",
    "    'Expected Calibration Error': eces,\n",
    "    'Accuracy': accs,\n",
    "    'Negative Log-Likelihood': nlls,\n",
    "    'Area under ROC': aurocs,\n",
    "    'Test Set': set_type,\n",
    "    'Ensemble Type': ens_type,\n",
    "    'Ensemble Size': ens_size,\n",
    "    'Post-hoc Calibrated': used_TS,\n",
    "    'Seed': seeds,\n",
    "})"
   ]
  },
  {
   "cell_type": "code",
   "execution_count": null,
   "id": "3c0abbf0-e5ee-4cf1-825b-9c53356f9eac",
   "metadata": {
    "ExecuteTime": {
     "start_time": "2023-08-20T12:07:21.250017200Z"
    }
   },
   "outputs": [],
   "source": [
    "col = 'Post-hoc Calibrated'\n",
    "x = 'Ensemble Size'\n",
    "y = 'Negative Log-Likelihood'\n",
    "hue = 'Ensemble Type'\n",
    "style = 'Test Set'\n",
    "\n",
    "g = sns.FacetGrid(exp_results, col=col)\n",
    "g.map_dataframe(sns.lineplot, x=x, y=y, hue=hue, style=style)\n",
    "g.add_legend()\n",
    "g.savefig(save_file.format(x, y, hue, col, style));"
   ]
  },
  {
   "cell_type": "code",
   "execution_count": null,
   "id": "25c03d7f-8644-4e0d-bfab-1d4af4b7c113",
   "metadata": {
    "ExecuteTime": {
     "start_time": "2023-08-20T12:07:21.254481800Z"
    }
   },
   "outputs": [],
   "source": [
    "col = 'Ensemble Type'\n",
    "x = 'Ensemble Size'\n",
    "y = 'Negative Log-Likelihood'\n",
    "hue = 'Post-hoc Calibrated'\n",
    "style = 'Test Set'\n",
    "\n",
    "g = sns.FacetGrid(exp_results, col=col)\n",
    "g.map_dataframe(sns.lineplot, x=x, y=y, hue=hue, style=style)\n",
    "g.add_legend()\n",
    "g.savefig(save_file.format(x, y, hue, col, style));"
   ]
  },
  {
   "cell_type": "code",
   "execution_count": null,
   "id": "832fd9d2-8751-4c84-a5ee-a753a6f8b9ef",
   "metadata": {
    "ExecuteTime": {
     "start_time": "2023-08-20T12:07:21.258447800Z"
    }
   },
   "outputs": [],
   "source": [
    "import matplotlib.pyplot as plt\n",
    "hue = 'Ensemble Type'\n",
    "x = 'Ensemble Size'\n",
    "y = 'Area under ROC'\n",
    "col = 'Post-hoc Calibrated'\n",
    "style = 'Test Set'\n",
    "\n",
    "#with sns.plotting_context('paper', font_scale=.6):\n",
    "with sns.plotting_context('notebook', font_scale=1.3):\n",
    "#with sns.plotting_context(font_scale=1):\n",
    "    g = sns.lineplot(data=exp_results[exp_results['Post-hoc Calibrated']=='No'], x=x, y=y, hue=hue, style=style)\n",
    "    g.set_xticks(range(1, 6))\n",
    "    g.set_ylabel('AUROC')\n",
    "    plt.tight_layout()\n",
    "    g.get_figure().savefig(save_file.format(x, y, hue, col, style));"
   ]
  },
  {
   "cell_type": "code",
   "execution_count": null,
   "id": "6a227315-2540-4d54-98b0-8b0933be7774",
   "metadata": {
    "ExecuteTime": {
     "start_time": "2023-08-20T12:07:21.262415700Z"
    }
   },
   "outputs": [],
   "source": [
    "col = 'Ensemble Type'\n",
    "x = 'Ensemble Size'\n",
    "y = 'Expected Calibration Error'\n",
    "hue = 'Post-hoc Calibrated'\n",
    "style = 'Test Set'\n",
    "\n",
    "g = sns.FacetGrid(exp_results, col=col)\n",
    "g.map_dataframe(sns.lineplot, x=x, y=y, hue=hue, style=style)\n",
    "g.add_legend()\n",
    "g.savefig(save_file.format(x, y, hue, col, style));"
   ]
  },
  {
   "cell_type": "code",
   "execution_count": null,
   "id": "4c71d9df-ed09-49d2-ab88-0a979e4fb0e7",
   "metadata": {
    "ExecuteTime": {
     "start_time": "2023-08-20T12:07:21.266384900Z"
    }
   },
   "outputs": [],
   "source": [
    "hue = 'Ensemble Type'\n",
    "x = 'Ensemble Size'\n",
    "y = 'Expected Calibration Error'\n",
    "col = 'Post-hoc Calibrated'\n",
    "style = 'Test Set'\n",
    "\n",
    "g = sns.FacetGrid(exp_results, col=col)\n",
    "g.map_dataframe(sns.lineplot, x=x, y=y, hue=hue, style=style)\n",
    "g.add_legend()\n",
    "g.savefig(save_file.format(x, y, hue, col, style));"
   ]
  },
  {
   "cell_type": "code",
   "execution_count": null,
   "id": "4ae738b0-cc1f-4858-ba58-7da881a8f93e",
   "metadata": {
    "ExecuteTime": {
     "start_time": "2023-08-20T12:07:21.270848500Z"
    }
   },
   "outputs": [],
   "source": [
    "hue = 'Ensemble Type'\n",
    "x = 'Ensemble Size'\n",
    "y = 'Accuracy'\n",
    "col = 'Post-hoc Calibrated'\n",
    "style = 'Test Set'\n",
    "\n",
    "g = sns.FacetGrid(exp_results, col=col)\n",
    "g.map_dataframe(sns.lineplot, x=x, y=y, hue=hue, style=style)\n",
    "g.add_legend()\n",
    "g.savefig(save_file.format(x, y, hue, col, style));"
   ]
  },
  {
   "cell_type": "code",
   "execution_count": null,
   "id": "5006bbb1-dce2-4964-8017-7c08ba021d6e",
   "metadata": {
    "ExecuteTime": {
     "start_time": "2023-08-20T12:07:21.274815900Z"
    }
   },
   "outputs": [],
   "source": [
    "# m=0 ResNet34\n",
    "# m=1 ResNet50\n",
    "model_ids = ['0{}0.2{}'.format(m, n) for m in range(2) for n in range(5)]\n",
    "\n",
    "pss_val, zs_val, ys_val = load_val_set(model_ids)\n",
    "pss_test_id, zs_test_id, ys_test_id = load_test_set(model_ids)\n",
    "pss_test_ood, zs_test_ood, ys_test_ood = load_test_set(model_ids, test_ids=test_ids)\n",
    "\n",
    "# avg ensemble preds\n",
    "eps_val = pss_val.mean(0)\n",
    "eps_test_id = pss_test_id.mean(0)\n",
    "eps_test_ood = pss_test_ood.mean(0)\n",
    "\n",
    "# avg ensemble preds in logit space\n",
    "leps_val = pss_val.logit().mean(0).sigmoid()\n",
    "leps_test_id = pss_test_id.logit().mean(0).sigmoid()\n",
    "leps_test_ood = pss_test_ood.logit().mean(0).sigmoid()"
   ]
  },
  {
   "cell_type": "code",
   "execution_count": null,
   "id": "2dc1d455-3c4d-4e93-ad97-fb7dbf47d0c2",
   "metadata": {
    "ExecuteTime": {
     "start_time": "2023-08-20T12:07:21.279281300Z"
    }
   },
   "outputs": [],
   "source": [
    "BI_val = BI_softplus(zs_val)\n",
    "BI_test_id = BI_softplus(zs_test_id)\n",
    "BI_test_ood = BI_softplus(zs_test_ood)\n",
    "\n",
    "eCS_val = torch.stack([eps_val, 1-eps_val]).min(0).values\n",
    "eCS_test_id = torch.stack([eps_test_id, 1-eps_test_id]).min(0).values\n",
    "eCS_test_ood = torch.stack([eps_test_ood, 1-eps_test_ood]).min(0).values\n",
    "\n",
    "leCS_val = torch.stack([leps_val, 1-leps_val]).min(0).values\n",
    "leCS_test_id = torch.stack([leps_test_id, 1-leps_test_id]).min(0).values\n",
    "leCS_test_ood = torch.stack([leps_test_ood, 1-leps_test_ood]).min(0).values\n",
    "\n",
    "NLL_val = binary_cross_entropy(ps_val, ys_val, reduction='none')\n",
    "NLL_test_id = binary_cross_entropy(ps_test_id, ys_test_id, reduction='none')\n",
    "NLL_test_ood = binary_cross_entropy(ps_test_ood, ys_test_ood, reduction='none')\n",
    "\n",
    "ACC_val = ((ps_val > 0.5) == ys_val).to(dtype=torch.float)\n",
    "ACC_test_id = ((ps_test_id > 0.5) == ys_test_id).to(dtype=torch.float)\n",
    "ACC_test_ood = ((ps_test_ood > 0.5) == ys_test_ood).to(dtype=torch.float)"
   ]
  },
  {
   "cell_type": "code",
   "execution_count": null,
   "id": "4fdee5d9-a973-47f5-b452-87378b6a2608",
   "metadata": {
    "ExecuteTime": {
     "start_time": "2023-08-20T12:07:21.284736200Z"
    }
   },
   "outputs": [],
   "source": [
    "results = []\n",
    "\n",
    "m = 1 # ResNet50\n",
    "for i in range(5):\n",
    "    ps_val = pss_val[m*5+i]\n",
    "    ps_test_id = pss_test_id[m*5+i]\n",
    "    ps_test_ood = pss_test_ood[m*5+i]\n",
    "\n",
    "    CS_val = torch.stack([ps_val, 1-ps_val]).min(0).values\n",
    "    CS_test_id = torch.stack([ps_test_id, 1-ps_test_id]).min(0).values\n",
    "    CS_test_ood = torch.stack([ps_test_ood, 1-ps_test_ood]).min(0).values\n",
    "\n",
    "    results.append(pd.DataFrame({\n",
    "        '1 - Confidence Score': CS_val, 'Bregman Information': BI_val,\n",
    "        '1 - eConfidence Score': eCS_val, 'NLL': NLL_val, 'ACC': ACC_val, 'Set': 'Val'\n",
    "    }))\n",
    "    results.append(pd.DataFrame({\n",
    "        '1 - Confidence Score': CS_test_id, 'Bregman Information': BI_test_id,\n",
    "        '1 - eConfidence Score': eCS_test_id, 'NLL': NLL_test_id, 'ACC': ACC_test_id, 'Set': 'Test ID'\n",
    "    }))\n",
    "    results.append(pd.DataFrame({\n",
    "        '1 - Confidence Score': CS_test_ood, 'Bregman Information': BI_test_ood,\n",
    "        '1 - eConfidence Score': eCS_test_ood, 'NLL': NLL_test_ood, 'ACC': ACC_test_ood, 'Set': 'Test OOD'\n",
    "    }))\n",
    "results = pd.concat(results).reset_index()\n",
    "results['Log Bregman Information'] = np.log(results['Bregman Information'])\n",
    "results['Log 1 - Confidence Score'] = np.log(results['1 - Confidence Score'])\n",
    "results['Log 1 - eConfidence Score'] = np.log(results['1 - eConfidence Score'])\n",
    "results.shape"
   ]
  },
  {
   "cell_type": "code",
   "execution_count": null,
   "id": "fb265976-58ff-46d9-8b3d-a59a9f80cc82",
   "metadata": {
    "ExecuteTime": {
     "start_time": "2023-08-20T12:07:21.290193800Z"
    }
   },
   "outputs": [],
   "source": [
    "# !!!!!!!!!!!!! #\n",
    "# Visually clearer with log scale\n",
    "log_scale = True\n",
    "# !!!!!!!!!!!!! #"
   ]
  },
  {
   "cell_type": "code",
   "execution_count": null,
   "id": "57d46558-eb78-4461-bcf8-4c8feddbee18",
   "metadata": {
    "ExecuteTime": {
     "start_time": "2023-08-20T12:07:21.294655900Z"
    }
   },
   "outputs": [],
   "source": [
    "sns.histplot(data=results, x='Bregman Information', hue='Set', common_norm=False, stat=\"density\", log_scale=log_scale, );"
   ]
  },
  {
   "cell_type": "code",
   "execution_count": null,
   "id": "414a1905-c610-4b68-8c44-69fc81933065",
   "metadata": {
    "ExecuteTime": {
     "start_time": "2023-08-20T12:07:21.300113700Z"
    }
   },
   "outputs": [],
   "source": [
    "sns.histplot(data=results, x='1 - Confidence Score', hue='Set', common_norm=False, stat=\"density\", log_scale=log_scale, );"
   ]
  },
  {
   "cell_type": "code",
   "execution_count": null,
   "id": "6aa96019-8dfb-484b-870e-ff240c88656a",
   "metadata": {
    "ExecuteTime": {
     "start_time": "2023-08-20T12:07:21.304575800Z"
    }
   },
   "outputs": [],
   "source": [
    "sns.histplot(data=results, x='1 - eConfidence Score', hue='Set', common_norm=False, stat=\"density\", log_scale=log_scale, );"
   ]
  },
  {
   "cell_type": "code",
   "execution_count": null,
   "id": "5bea8a28-6464-4992-abd7-b98f9b513346",
   "metadata": {
    "ExecuteTime": {
     "start_time": "2023-08-20T12:07:21.312017Z"
    }
   },
   "outputs": [],
   "source": [
    "sns.kdeplot(data=results, x='Bregman Information', hue='Set', multiple=\"fill\");"
   ]
  },
  {
   "cell_type": "code",
   "execution_count": null,
   "id": "b4bb7af0-2ad9-44bc-a82d-a4cdcfa0fd1d",
   "metadata": {
    "ExecuteTime": {
     "start_time": "2023-08-20T12:07:21.317473400Z"
    }
   },
   "outputs": [],
   "source": [
    "sns.kdeplot(data=results, x='1 - Confidence Score', hue='Set', multiple=\"fill\");"
   ]
  },
  {
   "cell_type": "code",
   "execution_count": null,
   "id": "1cae4c03-ba69-4d11-a890-747e960297f2",
   "metadata": {
    "ExecuteTime": {
     "start_time": "2023-08-20T12:07:21.322432300Z"
    }
   },
   "outputs": [],
   "source": [
    "sns.kdeplot(data=results, x='1 - eConfidence Score', hue='Set', multiple=\"fill\");"
   ]
  },
  {
   "cell_type": "code",
   "execution_count": null,
   "id": "29ab3e69-69a3-46c2-84ac-1e1bb82af278",
   "metadata": {
    "ExecuteTime": {
     "start_time": "2023-08-20T12:07:21.327391900Z"
    }
   },
   "outputs": [],
   "source": [
    "sns.histplot(data=results, x='Bregman Information', hue='Set', common_norm=False, stat=\"density\", cumulative=True, fill=False, element=\"step\", log_scale=log_scale);"
   ]
  },
  {
   "cell_type": "code",
   "execution_count": null,
   "id": "e5bff240-31a6-4d22-9185-38b18fb5ba4d",
   "metadata": {
    "ExecuteTime": {
     "start_time": "2023-08-20T12:07:21.331856200Z"
    }
   },
   "outputs": [],
   "source": [
    "sns.histplot(data=results, x='1 - Confidence Score', hue='Set', common_norm=False, stat=\"density\", cumulative=True, fill=False, element=\"step\", log_scale=log_scale);"
   ]
  },
  {
   "cell_type": "code",
   "execution_count": null,
   "id": "46cb87e3-faee-472a-a922-56da689e31b2",
   "metadata": {
    "ExecuteTime": {
     "start_time": "2023-08-20T12:07:21.335328Z"
    }
   },
   "outputs": [],
   "source": [
    "sns.histplot(data=results, x='1 - eConfidence Score', hue='Set', common_norm=False, stat=\"density\", cumulative=True, fill=False, element=\"step\", log_scale=log_scale);"
   ]
  },
  {
   "cell_type": "code",
   "execution_count": null,
   "id": "34bc2177-7540-4f3f-b9ec-7cd832e03cef",
   "metadata": {
    "ExecuteTime": {
     "start_time": "2023-08-20T12:07:21.339296500Z"
    }
   },
   "outputs": [],
   "source": [
    "g = sns.FacetGrid(results, col=\"Set\")\n",
    "g.map_dataframe(sns.histplot, y='1 - Confidence Score', x='Bregman Information', common_norm=False)\n",
    "g.add_legend();"
   ]
  },
  {
   "cell_type": "code",
   "execution_count": null,
   "id": "d3d88420-743b-4b8d-834a-84fb46b30a8c",
   "metadata": {
    "ExecuteTime": {
     "start_time": "2023-08-20T12:07:21.343263900Z"
    }
   },
   "outputs": [],
   "source": [
    "g = sns.FacetGrid(results, col=\"Set\")\n",
    "g.map_dataframe(sns.kdeplot, y='1 - Confidence Score', x='Bregman Information', fill=True)\n",
    "g.add_legend();"
   ]
  },
  {
   "cell_type": "code",
   "execution_count": null,
   "id": "89827574-f415-402b-9b3f-a9f3700b2b7f",
   "metadata": {
    "ExecuteTime": {
     "start_time": "2023-08-20T12:07:21.348226200Z"
    }
   },
   "outputs": [],
   "source": [
    "g = sns.FacetGrid(results, col=\"Set\")\n",
    "g.map_dataframe(sns.kdeplot, y='Log 1 - Confidence Score', x='Log Bregman Information', fill=True)\n",
    "g.add_legend();"
   ]
  },
  {
   "cell_type": "code",
   "execution_count": null,
   "id": "8725bd54-25bf-433e-9b07-78b36138ddf8",
   "metadata": {
    "ExecuteTime": {
     "start_time": "2023-08-20T12:07:21.353184900Z"
    }
   },
   "outputs": [],
   "source": [
    "g = sns.FacetGrid(results, col=\"Set\")\n",
    "g.map_dataframe(sns.kdeplot, y='1 - Confidence Score', x='1 - eConfidence Score', fill=True)\n",
    "g.add_legend();"
   ]
  },
  {
   "cell_type": "code",
   "execution_count": null,
   "id": "97cbc20a-3a34-42f4-bf7d-2604795b936d",
   "metadata": {
    "ExecuteTime": {
     "start_time": "2023-08-20T12:07:21.358144700Z"
    }
   },
   "outputs": [],
   "source": [
    "g = sns.FacetGrid(results, col=\"Set\")\n",
    "g.map_dataframe(sns.kdeplot, y='1 - eConfidence Score', x='Bregman Information', fill=True)\n",
    "g.add_legend();"
   ]
  },
  {
   "cell_type": "code",
   "execution_count": null,
   "id": "5e836c54-1599-4a8a-a508-582cf17b1272",
   "metadata": {
    "ExecuteTime": {
     "start_time": "2023-08-20T12:07:21.362111300Z"
    }
   },
   "outputs": [],
   "source": [
    "g = sns.FacetGrid(results, col=\"Set\")\n",
    "g.map_dataframe(sns.kdeplot, y='Log 1 - eConfidence Score', x='Log Bregman Information', fill=True)\n",
    "g.add_legend();"
   ]
  },
  {
   "cell_type": "code",
   "execution_count": null,
   "id": "36d19c6b-85b0-4437-9136-27143456d5d3",
   "metadata": {
    "ExecuteTime": {
     "start_time": "2023-08-20T12:07:21.365087900Z"
    }
   },
   "outputs": [],
   "source": [
    "g = sns.FacetGrid(results, col=\"Set\")\n",
    "g.map_dataframe(sns.kdeplot, y='NLL', x='1 - Confidence Score', fill=True)\n",
    "g.add_legend();"
   ]
  },
  {
   "cell_type": "code",
   "execution_count": null,
   "id": "6719a605-0d20-47c8-88a3-e09597e84bf9",
   "metadata": {
    "ExecuteTime": {
     "start_time": "2023-08-20T12:07:21.366575600Z"
    }
   },
   "outputs": [],
   "source": [
    "g = sns.FacetGrid(results, col=\"Set\")\n",
    "g.map_dataframe(sns.kdeplot, y='NLL', x='Bregman Information', fill=True)\n",
    "g.add_legend();"
   ]
  },
  {
   "cell_type": "code",
   "execution_count": null,
   "id": "a3fbb22d-a3c6-4809-b09c-62649561b7ea",
   "metadata": {
    "ExecuteTime": {
     "start_time": "2023-08-20T12:07:21.369055900Z"
    }
   },
   "outputs": [],
   "source": [
    "g = sns.FacetGrid(results, col=\"Set\")\n",
    "g.map_dataframe(sns.kdeplot, y='NLL', x='1 - eConfidence Score', fill=True)\n",
    "g.add_legend();"
   ]
  },
  {
   "cell_type": "code",
   "execution_count": null,
   "id": "f99b97d3-9d5d-4396-9070-2e984a2b6325",
   "metadata": {
    "ExecuteTime": {
     "start_time": "2023-08-20T12:07:21.371535800Z"
    }
   },
   "outputs": [],
   "source": [
    "g = sns.FacetGrid(results, col=\"Set\")\n",
    "g.map_dataframe(sns.histplot, y='ACC', x='Log Bregman Information', fill=True)\n",
    "g.add_legend();"
   ]
  },
  {
   "cell_type": "code",
   "execution_count": null,
   "id": "99dcfe50-d57d-4135-ae81-2831cac2945c",
   "metadata": {
    "ExecuteTime": {
     "start_time": "2023-08-20T12:07:21.374015700Z"
    }
   },
   "outputs": [],
   "source": [
    "g = sns.FacetGrid(results, col=\"Set\")\n",
    "g.map_dataframe(sns.histplot, y='ACC', x='1 - Confidence Score', fill=True)\n",
    "g.add_legend();"
   ]
  },
  {
   "cell_type": "code",
   "execution_count": null,
   "id": "ec8fb167-1461-408d-9b78-ec070937f878",
   "metadata": {
    "ExecuteTime": {
     "start_time": "2023-08-20T12:07:21.376495800Z"
    }
   },
   "outputs": [],
   "source": [
    "qs = np.arange(0.1, 1.1, 0.1)\n",
    "BI_qs = [results.loc[results['Set']=='Val', 'Bregman Information'].quantile(q) for q in qs]\n",
    "CS_qs = [results.loc[results['Set']=='Val', '1 - Confidence Score'].quantile(q) for q in qs]\n",
    "eCS_qs = [results.loc[results['Set']=='Val', '1 - eConfidence Score'].quantile(q) for q in qs]\n",
    "\n",
    "th_results = []\n",
    "for i in range(len(qs)):\n",
    "    th_results_ = deepcopy(results.loc[(results['Bregman Information']<=BI_qs[i]) & (results['Set']!='Val')])\n",
    "    th_results_['q'] = qs[i]\n",
    "    th_results_['Type'] = 'Bregman Information'\n",
    "    th_results.append(th_results_)\n",
    "\n",
    "    th_results_ = deepcopy(results.loc[(results['1 - Confidence Score']<=CS_qs[i]) & (results['Set']!='Val')])\n",
    "    th_results_['q'] = qs[i]\n",
    "    th_results_['Type'] = 'Confidence Score'\n",
    "    th_results.append(th_results_)\n",
    "\n",
    "    th_results_ = deepcopy(results.loc[(results['1 - eConfidence Score']<=eCS_qs[i]) & (results['Set']!='Val')])\n",
    "    th_results_['q'] = qs[i]\n",
    "    th_results_['Type'] = 'eConfidence Score'\n",
    "    th_results.append(th_results_)\n",
    "\n",
    "th_results = pd.concat(th_results).reset_index()"
   ]
  },
  {
   "cell_type": "code",
   "execution_count": null,
   "id": "9ddf002e-6b36-489e-8a76-271c08c426de",
   "metadata": {
    "ExecuteTime": {
     "start_time": "2023-08-20T12:07:21.380960800Z"
    }
   },
   "outputs": [],
   "source": [
    "sns.lineplot(data=th_results, x='q', y='NLL', hue='Type', style='Set');"
   ]
  },
  {
   "cell_type": "code",
   "execution_count": null,
   "id": "f5399ab6-33ca-4a8b-a102-c1704d419d96",
   "metadata": {
    "ExecuteTime": {
     "start_time": "2023-08-20T12:07:21.384432500Z"
    }
   },
   "outputs": [],
   "source": [
    "sns.lineplot(data=th_results, x='q', y='ACC', hue='Type', style='Set');"
   ]
  },
  {
   "cell_type": "code",
   "execution_count": null,
   "id": "bd378761-ed0a-4dab-a8e9-2e78764cb736",
   "metadata": {
    "ExecuteTime": {
     "start_time": "2023-08-20T12:07:21.386912500Z"
    }
   },
   "outputs": [],
   "source": [
    "# CS\n",
    "print('---| Val          | Test ID      | Test OOD')\n",
    "print('NLL', binary_cross_entropy(ps_val, ys_val), binary_cross_entropy(ps_test_id, ys_test_id), binary_cross_entropy(ps_test_ood, ys_test_ood))\n",
    "print('ACC', ACC(ps_val, ys_val), ACC(ps_test_id, ys_test_id), ACC(ps_test_ood, ys_test_ood))\n",
    "print('ECE', ECE(ps_val, ys_val), ECE(ps_test_id, ys_test_id), ECE(ps_test_ood, ys_test_ood))"
   ]
  },
  {
   "cell_type": "code",
   "execution_count": null,
   "id": "0e294c43-85f9-41ce-a8e8-2a3e6a46c70d",
   "metadata": {
    "ExecuteTime": {
     "start_time": "2023-08-20T12:07:21.389888700Z"
    }
   },
   "outputs": [],
   "source": [
    "# eCS\n",
    "print('---| Val          | Test ID      | Test OOD')\n",
    "print('NLL', binary_cross_entropy(eps_val, ys_val), binary_cross_entropy(eps_test_id, ys_test_id), binary_cross_entropy(eps_test_ood, ys_test_ood))\n",
    "print('ACC', ACC(eps_val, ys_val), ACC(eps_test_id, ys_test_id), ACC(eps_test_ood, ys_test_ood))\n",
    "print('ECE', ECE(eps_val, ys_val), ECE(eps_test_id, ys_test_id), ECE(eps_test_ood, ys_test_ood))"
   ]
  },
  {
   "cell_type": "code",
   "execution_count": null,
   "id": "d46f9d9a-fa6b-44da-bef4-005e5cb8abff",
   "metadata": {
    "ExecuteTime": {
     "start_time": "2023-08-20T12:07:21.392367600Z"
    }
   },
   "outputs": [],
   "source": [
    "# leCS\n",
    "print('---| Val          | Test ID      | Test OOD')\n",
    "print('NLL', binary_cross_entropy(leps_val, ys_val), binary_cross_entropy(leps_test_id, ys_test_id), binary_cross_entropy(leps_test_ood, ys_test_ood))\n",
    "print('ACC', ACC(leps_val, ys_val), ACC(leps_test_id, ys_test_id), ACC(leps_test_ood, ys_test_ood))\n",
    "print('ECE', ECE(leps_val, ys_val), ECE(leps_test_id, ys_test_id), ECE(leps_test_ood, ys_test_ood))"
   ]
  },
  {
   "cell_type": "code",
   "execution_count": null,
   "id": "71a7c5c6-6403-4d3d-9102-87367293020b",
   "metadata": {
    "ExecuteTime": {
     "start_time": "2023-08-20T12:07:21.394847400Z"
    }
   },
   "outputs": [],
   "source": [
    "class BIPlattScaling():\n",
    "\n",
    "    def __init__(self, temp=1, bias=0, maxiter=100, solver=\"Nelder-Mead\", loss='NLL'):\n",
    "        self.temp = temp\n",
    "        self.bias = bias\n",
    "        self.maxiter = maxiter\n",
    "        self.solver = solver\n",
    "        self.loss = loss\n",
    "\n",
    "    def _loss_fun(self, params, logits, BIs, true):\n",
    "        #llogits = np.sign(logits) * BIs\n",
    "        scaled_l = self.predict(logits, BIs, params[0], 0)\n",
    "        #scaled_l = self.predict(logits, BIs, params[0])\n",
    "        loss = log_loss(true, expit(scaled_l))\n",
    "        return loss\n",
    "\n",
    "    # Find the temperature\n",
    "    def fit(self, logits, BIs, true):\n",
    "        true = true.flatten() # Flatten y_val\n",
    "        #import pdb; pdb.set_trace()\n",
    "        opt = minimize(\n",
    "            self._loss_fun, x0 = [1, 0], args=(logits, BIs, true),\n",
    "            options={'maxiter':self.maxiter, 'disp':True}, method = self.solver)\n",
    "        self.temp = opt.x[0]\n",
    "        self.bias = opt.x[1]\n",
    "\n",
    "        return opt\n",
    "\n",
    "    def predict(self, logits, BIs, temp = None, bias = None):\n",
    "        llogits = -np.sign(logits) * BIs\n",
    "        if temp is None:\n",
    "            llogits = llogits / self.temp\n",
    "        else:\n",
    "            llogits = llogits / temp\n",
    "        if bias is None:\n",
    "            llogits = llogits + self.bias\n",
    "        else:\n",
    "            llogits = llogits + bias\n",
    "        return llogits"
   ]
  },
  {
   "cell_type": "code",
   "execution_count": null,
   "id": "35b63871-8d17-4b09-bd7f-68227ee96d5a",
   "metadata": {
    "ExecuteTime": {
     "start_time": "2023-08-20T12:07:21.396831Z"
    }
   },
   "outputs": [],
   "source": [
    "class BITScaling():\n",
    "\n",
    "    def __init__(self, temp=1, maxiter=100, solver=\"BFGS\", loss='NLL'):\n",
    "        self.temp = temp\n",
    "        self.maxiter = maxiter\n",
    "        self.solver = solver\n",
    "        self.loss = loss\n",
    "\n",
    "    def _loss_fun(self, params, logits, BIs, true):\n",
    "        scaled_l = self.predict(logits, BIs, params)\n",
    "        loss = log_loss(true, expit(scaled_l))\n",
    "        return loss\n",
    "\n",
    "    # Find the temperature\n",
    "    def fit(self, logits, BIs, true):\n",
    "        true = true.flatten() # Flatten y_val\n",
    "        #import pdb; pdb.set_trace()\n",
    "        opt = minimize(\n",
    "            self._loss_fun, x0 = 1, args=(logits, BIs, true),\n",
    "            options={'maxiter':self.maxiter, 'disp':True}, method = self.solver)\n",
    "        self.temp = opt.x[0]\n",
    "\n",
    "        return opt\n",
    "\n",
    "    def predict(self, logits, BIs, temp = None):\n",
    "        llogits = -np.sign(logits) * BIs\n",
    "        if temp is None:\n",
    "            llogits = llogits / self.temp\n",
    "        else:\n",
    "            llogits = llogits / temp\n",
    "        return llogits"
   ]
  },
  {
   "cell_type": "code",
   "execution_count": null,
   "id": "0f7bccc4-9c0d-454b-80d4-c9c8ff1d55e4",
   "metadata": {
    "ExecuteTime": {
     "start_time": "2023-08-20T12:07:21.398319300Z"
    }
   },
   "outputs": [],
   "source": [
    "TS = TemperatureScaling()\n",
    "TS.fit(ps_val.logit().numpy(), ys_val.numpy())\n",
    "TS_ps_val = torch.from_numpy(TS.predict(ps_val.logit().numpy())).sigmoid()\n",
    "TS_ps_test_id = torch.from_numpy(TS.predict(ps_test_id.logit().numpy())).sigmoid()\n",
    "TS_ps_test_ood = torch.from_numpy(TS.predict(ps_test_ood.logit().numpy())).sigmoid()"
   ]
  },
  {
   "cell_type": "code",
   "execution_count": null,
   "id": "59a9c5e4-bf92-43eb-ac95-3f256ae88076",
   "metadata": {
    "ExecuteTime": {
     "start_time": "2023-08-20T12:07:21.400306600Z"
    }
   },
   "outputs": [],
   "source": [
    "BITS = BITScaling()\n",
    "BITS.fit(ps_val.logit().numpy(), BI_val.log().numpy(), ys_val.numpy())\n",
    "BITS_ps_val = torch.from_numpy(BITS.predict(ps_val.logit().numpy(), BI_val.log().numpy())).sigmoid()\n",
    "BITS_ps_test_id = torch.from_numpy(BITS.predict(ps_test_id.logit().numpy(), BI_test_id.log().numpy())).sigmoid()\n",
    "BITS_ps_test_ood = torch.from_numpy(BITS.predict(ps_test_ood.logit().numpy(), BI_test_ood.log().numpy())).sigmoid()\n",
    "BITS_ys_test_ood = ys_test_ood[BITS_ps_test_ood.isnan().logical_not()]\n",
    "BITS_ps_test_ood = BITS_ps_test_ood[BITS_ps_test_ood.isnan().logical_not()]"
   ]
  },
  {
   "cell_type": "code",
   "execution_count": null,
   "id": "96e521c3-9b79-495a-8ffa-44e4b0a9e676",
   "metadata": {
    "ExecuteTime": {
     "start_time": "2023-08-20T12:07:21.402783800Z"
    }
   },
   "outputs": [],
   "source": [
    "# CS\n",
    "print('---| Val          | Test ID      | Test OOD')\n",
    "print('NLL', binary_cross_entropy(ps_val, ys_val), binary_cross_entropy(ps_test_id, ys_test_id), binary_cross_entropy(ps_test_ood, ys_test_ood))\n",
    "print('ECE', ECE(ps_val, ys_val), ECE(ps_test_id, ys_test_id), ECE(ps_test_ood, ys_test_ood))"
   ]
  },
  {
   "cell_type": "code",
   "execution_count": null,
   "id": "3bdeda5c-70e5-440a-b183-8e0518e25f9e",
   "metadata": {
    "ExecuteTime": {
     "start_time": "2023-08-20T12:07:21.404767700Z"
    }
   },
   "outputs": [],
   "source": [
    "# TS CS\n",
    "print('---| Val          | Test ID      | Test OOD')\n",
    "print('NLL', binary_cross_entropy(TS_ps_val, ys_val), binary_cross_entropy(TS_ps_test_id, ys_test_id), binary_cross_entropy(TS_ps_test_ood, ys_test_ood))\n",
    "print('ECE', ECE(TS_ps_val, ys_val), ECE(TS_ps_test_id, ys_test_id), ECE(TS_ps_test_ood, ys_test_ood))"
   ]
  },
  {
   "cell_type": "code",
   "execution_count": null,
   "id": "f839a9f4-d1e3-4d76-b366-d38e99ef1be7",
   "metadata": {
    "ExecuteTime": {
     "start_time": "2023-08-20T12:07:21.406255400Z"
    }
   },
   "outputs": [],
   "source": [
    "# BITS CS\n",
    "print('---| Val          | Test ID      | Test OOD')\n",
    "print('NLL', binary_cross_entropy(BITS_ps_val, ys_val), binary_cross_entropy(BITS_ps_test_id, ys_test_id), binary_cross_entropy(BITS_ps_test_ood, BITS_ys_test_ood))\n",
    "print('ECE', ECE(BITS_ps_val, ys_val), ECE(BITS_ps_test_id, ys_test_id), ECE(BITS_ps_test_ood, BITS_ys_test_ood))"
   ]
  },
  {
   "cell_type": "code",
   "execution_count": null,
   "id": "aeb31147-ad44-4f3e-82b0-064b0d46a9a9",
   "metadata": {
    "ExecuteTime": {
     "start_time": "2023-08-20T12:07:21.408735400Z"
    }
   },
   "outputs": [],
   "source": [
    "# eCS\n",
    "print('---| Val          | Test ID      | Test OOD')\n",
    "print('NLL', binary_cross_entropy(eps_val, ys_val), binary_cross_entropy(eps_test_id, ys_test_id), binary_cross_entropy(eps_test_ood, ys_test_ood))\n",
    "print('ECE', ECE(eps_val, ys_val), ECE(eps_test_id, ys_test_id), ECE(eps_test_ood, ys_test_ood))"
   ]
  },
  {
   "cell_type": "code",
   "execution_count": null,
   "id": "46df0d72-4bd8-4405-9301-23e811671321",
   "metadata": {
    "ExecuteTime": {
     "start_time": "2023-08-20T12:07:21.412704100Z"
    }
   },
   "outputs": [],
   "source": [
    "TS = TemperatureScaling()\n",
    "TS.fit(eps_val.logit().numpy(), ys_val.numpy())\n",
    "TS_eps_val = torch.from_numpy(TS.predict(eps_val.logit().numpy())).sigmoid()\n",
    "TS_eps_test_id = torch.from_numpy(TS.predict(eps_test_id.logit().numpy())).sigmoid()\n",
    "TS_eps_test_ood = torch.from_numpy(TS.predict(eps_test_ood.logit().numpy())).sigmoid()"
   ]
  },
  {
   "cell_type": "code",
   "execution_count": null,
   "id": "3d5c90a8-9efe-4542-bfa3-558b01ea0f76",
   "metadata": {
    "ExecuteTime": {
     "start_time": "2023-08-20T12:07:21.416176600Z"
    }
   },
   "outputs": [],
   "source": [
    "# TS eCS\n",
    "print('---| Val          | Test ID      | Test OOD')\n",
    "print('NLL', binary_cross_entropy(TS_eps_val, ys_val), binary_cross_entropy(TS_eps_test_id, ys_test_id), binary_cross_entropy(TS_eps_test_ood, ys_test_ood))\n",
    "print('ECE', ECE(TS_eps_val, ys_val), ECE(TS_eps_test_id, ys_test_id), ECE(TS_eps_test_ood, ys_test_ood))"
   ]
  },
  {
   "cell_type": "code",
   "execution_count": null,
   "id": "03cb6850-89ad-402f-81d5-4cd98bc5e7e2",
   "metadata": {
    "ExecuteTime": {
     "start_time": "2023-08-20T12:07:21.419648600Z"
    }
   },
   "outputs": [],
   "source": [
    "BITS.temp"
   ]
  },
  {
   "cell_type": "code",
   "execution_count": null,
   "id": "9043a328-3c10-4c34-8614-f6d8a1a3ae90",
   "metadata": {
    "ExecuteTime": {
     "start_time": "2023-08-20T12:07:21.423616800Z"
    }
   },
   "outputs": [],
   "source": [
    "BITS.bias"
   ]
  },
  {
   "cell_type": "code",
   "execution_count": null,
   "id": "fe4c8729-ebba-4a92-8866-93231be59f20",
   "metadata": {
    "ExecuteTime": {
     "start_time": "2023-08-20T12:07:21.427089Z"
    }
   },
   "outputs": [],
   "source": []
  }
 ],
 "metadata": {
  "kernelspec": {
   "display_name": "Python 3 (ipykernel)",
   "language": "python",
   "name": "python3"
  },
  "language_info": {
   "codemirror_mode": {
    "name": "ipython",
    "version": 3
   },
   "file_extension": ".py",
   "mimetype": "text/x-python",
   "name": "python",
   "nbconvert_exporter": "python",
   "pygments_lexer": "ipython3",
   "version": "3.10.5"
  }
 },
 "nbformat": 4,
 "nbformat_minor": 5
}
