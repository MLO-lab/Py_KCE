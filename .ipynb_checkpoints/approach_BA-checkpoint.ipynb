{
 "cells": [
  {
   "cell_type": "code",
   "execution_count": 2,
   "metadata": {
    "ExecuteTime": {
     "end_time": "2023-06-02T19:37:14.048636200Z",
     "start_time": "2023-06-02T19:37:12.978926Z"
    },
    "id": "2sJN4JN-mU6z"
   },
   "outputs": [],
   "source": [
    "import numpy as np\n",
    "import random\n",
    "from sklearn import metrics"
   ]
  },
  {
   "cell_type": "code",
   "execution_count": 3,
   "metadata": {
    "ExecuteTime": {
     "end_time": "2023-06-02T19:37:14.064290800Z",
     "start_time": "2023-06-02T19:37:14.057565300Z"
    },
    "id": "DhSbZL5eoQUQ"
   },
   "outputs": [],
   "source": [
    "def linear_kernel(a, b, c=0):\n",
    "    \"\"\"\n",
    "    The linear kernel is a Mercer kernel given by\n",
    "    κ(x,y) = ρ²xᵀy + c\n",
    "    Where `c` is a real number.\n",
    "    \"\"\"\n",
    "    return np.dot(a, b) + c\n",
    "\n",
    "\n",
    "def polynomial_kernel(a, b, d=2, c=0):\n",
    "    \"\"\"\n",
    "    The polynomial kernel is a Mercer kernel given by\n",
    "    κ(x,y) = (ρ²xᵀy + c)^d\n",
    "    Where `c` is a real number, and `d` is a shape parameter bigger than 1\n",
    "    \"\"\"\n",
    "    return (np.dot(a, b) + c) ** d\n",
    "\n",
    "\n",
    "def calculate_SKCE_Matrix_Element(i, i_outcome, j, j_outcome, kernel):\n",
    "    # dot product for n-dimensional vectors\n",
    "    return np.dot(np.subtract(i_outcome,i), np.dot(kernel(i, j),(j_outcome - j)))\n",
    "\n",
    "def calculate_SKCE(predictions, outcomes, kernel):\n",
    "    n = len(predictions)\n",
    "    matrix = np.zeros((n, n))\n",
    "\n",
    "    for i in range(n):\n",
    "        for j in range(i, n):\n",
    "            matrix[i, j] = calculate_SKCE_Matrix_Element(predictions[i], outcomes[i], predictions[j], outcomes[j], kernel)\n",
    "\n",
    "    upper_triangle = np.triu(matrix)\n",
    "    sum_upper = np.sum(upper_triangle)\n",
    "    count_upper = (n * (n-1)) // 2  # We are using integer division here because we are dealing with indices\n",
    "    return np.divide(sum_upper, count_upper) if count_upper else 0\n",
    "\n",
    "def transform_outcomes(predictions, outcomes):\n",
    "    #creates vector for outcomes to match predictions shape\n",
    "    transformed_outcomes = np.zeros_like(predictions)\n",
    "    transformed_outcomes[np.arange(len(predictions)), outcomes] = 1\n",
    "    return transformed_outcomes"
   ]
  },
  {
   "cell_type": "code",
   "execution_count": 4,
   "metadata": {
    "ExecuteTime": {
     "end_time": "2023-06-02T19:37:14.094672500Z",
     "start_time": "2023-06-02T19:37:14.071236200Z"
    }
   },
   "outputs": [],
   "source": [
    "def calculate_SKCE(predictions, outcomes, kernel):\n",
    "    # Compute the kernel matrix\n",
    "    K = kernel(predictions, predictions)\n",
    "\n",
    "    # Compute the outcome differences\n",
    "    outcome_diff = outcomes[:, np.newaxis] - outcomes[np.newaxis, :]\n",
    "\n",
    "    # Compute the element-wise product of the outcome differences and the kernel matrix\n",
    "    product = np.multiply(outcome_diff, K)\n",
    "\n",
    "    # Compute the upper triangle of the product matrix\n",
    "    upper_triangle = np.triu(product)\n",
    "\n",
    "    # Compute the sum of the upper triangle elements and the count of these elements\n",
    "    sum_upper = np.sum(upper_triangle)\n",
    "    count_upper = np.count_nonzero(upper_triangle)\n",
    "\n",
    "    # Compute and return the average\n",
    "    return np.divide(sum_upper, count_upper) if count_upper else 0\n"
   ]
  },
  {
   "cell_type": "code",
   "execution_count": 6,
   "metadata": {
    "ExecuteTime": {
     "end_time": "2023-06-02T19:37:15.063423700Z",
     "start_time": "2023-06-02T19:37:14.086205800Z"
    },
    "colab": {
     "base_uri": "https://localhost:8080/"
    },
    "id": "vYPFfze2mMkW",
    "outputId": "f9b22c07-5700-48a0-d528-08f1b67f9124"
   },
   "outputs": [
    {
     "ename": "TypeError",
     "evalue": "kernel_metrics() takes 0 positional arguments but 1 was given",
     "output_type": "error",
     "traceback": [
      "\u001b[1;31m---------------------------------------------------------------------------\u001b[0m",
      "\u001b[1;31mTypeError\u001b[0m                                 Traceback (most recent call last)",
      "Cell \u001b[1;32mIn[6], line 6\u001b[0m\n\u001b[0;32m      3\u001b[0m outcomes \u001b[38;5;241m=\u001b[39m rng\u001b[38;5;241m.\u001b[39mintegers(\u001b[38;5;241m0\u001b[39m, \u001b[38;5;241m3\u001b[39m, \u001b[38;5;241m100\u001b[39m)  \u001b[38;5;66;03m# Outcomes are integers ranging from 0 to 2 (3 classes)\u001b[39;00m\n\u001b[0;32m      5\u001b[0m transformed_outcomes \u001b[38;5;241m=\u001b[39m transform_outcomes(predictions, outcomes)\n\u001b[1;32m----> 6\u001b[0m \u001b[38;5;28mprint\u001b[39m(calculate_SKCE(predictions, transformed_outcomes, \u001b[43mmetrics\u001b[49m\u001b[38;5;241;43m.\u001b[39;49m\u001b[43mpairwise\u001b[49m\u001b[38;5;241;43m.\u001b[39;49m\u001b[43mkernel_metrics\u001b[49m\u001b[43m(\u001b[49m\u001b[38;5;124;43m\"\u001b[39;49m\u001b[38;5;124;43mlinear\u001b[39;49m\u001b[38;5;124;43m\"\u001b[39;49m\u001b[43m)\u001b[49m))\n",
      "\u001b[1;31mTypeError\u001b[0m: kernel_metrics() takes 0 positional arguments but 1 was given"
     ]
    }
   ],
   "source": [
    "rng = np.random.default_rng(1234)\n",
    "predictions = rng.random((100, 3))  # Assume 3 classes so outcomes are 3-dimensional vectors\n",
    "outcomes = rng.integers(0, 3, 100)  # Outcomes are integers ranging from 0 to 2 (3 classes)\n",
    "\n",
    "transformed_outcomes = transform_outcomes(predictions, outcomes)\n",
    "print(calculate_SKCE(predictions, transformed_outcomes, metrics.pairwise.kernel_metrics().lin))\n"
   ]
  },
  {
   "cell_type": "code",
   "execution_count": null,
   "metadata": {
    "id": "Xfi85QdpoK3J"
   },
   "outputs": [],
   "source": [
    "#outcome Matrix:\n",
    "\n",
    "\n",
    "diff_outcomes_matrix = outcomes[:, np.newaxis] - predictions[np.newaxis, :]"
   ]
  },
  {
   "cell_type": "code",
   "execution_count": null,
   "metadata": {
    "id": "iUIjnGPqo8bA"
   },
   "outputs": [],
   "source": []
  }
 ],
 "metadata": {
  "colab": {
   "provenance": []
  },
  "kernelspec": {
   "display_name": "Python 3 (ipykernel)",
   "language": "python",
   "name": "python3"
  },
  "language_info": {
   "codemirror_mode": {
    "name": "ipython",
    "version": 3
   },
   "file_extension": ".py",
   "mimetype": "text/x-python",
   "name": "python",
   "nbconvert_exporter": "python",
   "pygments_lexer": "ipython3",
   "version": "3.10.10"
  }
 },
 "nbformat": 4,
 "nbformat_minor": 1
}
